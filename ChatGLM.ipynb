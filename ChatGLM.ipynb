{
 "cells": [
  {
   "cell_type": "code",
   "execution_count": 1,
   "id": "53438a9b-d6c6-4386-8b96-ea052a6cd911",
   "metadata": {},
   "outputs": [
    {
     "name": "stderr",
     "output_type": "stream",
     "text": [
      "/root/anaconda3/envs/chat/lib/python3.9/site-packages/tqdm/auto.py:21: TqdmWarning: IProgress not found. Please update jupyter and ipywidgets. See https://ipywidgets.readthedocs.io/en/stable/user_install.html\n",
      "  from .autonotebook import tqdm as notebook_tqdm\n"
     ]
    }
   ],
   "source": [
    "from typing import Any, List, Mapping, Optional\n",
    "from langchain.llms.base import LLM\n",
    "from langchain.callbacks.manager import CallbackManagerForLLMRun\n",
    "from transformers import AutoTokenizer, AutoModel, AutoConfig\n",
    "import torch\n",
    "\n",
    "\n",
    "def torch_gc():\n",
    "    # with torch.cuda.device(DEVICE):\n",
    "    torch.cuda.empty_cache()\n",
    "    torch.cuda.ipc_collect()\n",
    "    \n",
    "\n",
    "class ChatGLM(LLM):\n",
    "    max_token: int = 10000\n",
    "    temperature: float = 0.01\n",
    "    top_p = 0.9\n",
    "    history = []\n",
    "    tokenizer: object = None\n",
    "    model: object = None\n",
    "    history_len: int = 10\n",
    "\n",
    "    def __init__(\n",
    "        self,\n",
    "        model_path: str = \"chatglm-6b-int4\",\n",
    "        **kwargs\n",
    "    ):\n",
    "        super().__init__()\n",
    "        self.tokenizer = AutoTokenizer.from_pretrained(\n",
    "            model_path,\n",
    "            trust_remote_code=True, \n",
    "            revision=model_path\n",
    "        )\n",
    "        model_config = AutoConfig.from_pretrained(\n",
    "            model_path, \n",
    "            trust_remote_code=True, \n",
    "            revision=model_path\n",
    "        )\n",
    "        self.model = AutoModel.from_pretrained(\n",
    "            model_path, \n",
    "            config=model_config, \n",
    "            trust_remote_code=True, \n",
    "            revision=model_path, \n",
    "            **kwargs\n",
    "        ).half().cuda()\n",
    "        self.model = self.model.eval()\n",
    "\n",
    "    @property\n",
    "    def _llm_type(self) -> str:\n",
    "        return \"ChatGLM\"\n",
    "\n",
    "    def _call(self,\n",
    "              prompt: str,\n",
    "              history: List[List[str]] = [],\n",
    "              stop: Optional[List[str]] = None,\n",
    "              run_manager: Optional[CallbackManagerForLLMRun] = None\n",
    "    ) -> str:\n",
    "        response, _ = self.model.chat(\n",
    "            self.tokenizer,\n",
    "            prompt,\n",
    "            history=history[-self.history_len:] if self.history_len > 0 else [],\n",
    "            max_length=self.max_token,\n",
    "            temperature=self.temperature,\n",
    "        )\n",
    "        torch_gc()\n",
    "        history += [[prompt, response]]\n",
    "        return response, history\n",
    "        \n",
    "    def clean_history(self,\n",
    "                      **kwargs):\n",
    "        self.history=[]"
   ]
  },
  {
   "cell_type": "code",
   "execution_count": 2,
   "id": "69d98c45-9160-462d-aaea-e7dfd7add486",
   "metadata": {},
   "outputs": [
    {
     "name": "stdout",
     "output_type": "stream",
     "text": [
      "Load kernel : chatglm-6b-int4/quantization_kernels_parallel.so\n",
      "Setting CPU quantization kernel threads to 2\n",
      "Parallel kernel is not recommended when parallel num < 4.\n",
      "Using quantization cache\n",
      "Applying quantization to glm layers\n"
     ]
    }
   ],
   "source": [
    "llm = ChatGLM()"
   ]
  },
  {
   "cell_type": "code",
   "execution_count": 4,
   "id": "f2fb0619-6613-4c35-b5b5-c95593f16c15",
   "metadata": {},
   "outputs": [],
   "source": [
    "response, history = llm._call('你好')"
   ]
  },
  {
   "cell_type": "code",
   "execution_count": 5,
   "id": "0638eee0-09a7-4aa6-ad74-bb097212b1a6",
   "metadata": {},
   "outputs": [
    {
     "data": {
      "text/plain": [
       "'你好👋！我是 ChatGLM-6B，很高兴见到你，欢迎问我任何问题。'"
      ]
     },
     "execution_count": 5,
     "metadata": {},
     "output_type": "execute_result"
    }
   ],
   "source": [
    "response"
   ]
  },
  {
   "cell_type": "code",
   "execution_count": 6,
   "id": "e7f12f2e-650e-40f4-b9f2-0edcd7d83243",
   "metadata": {},
   "outputs": [
    {
     "data": {
      "text/plain": [
       "[['你好', '你好👋！我是人工智能助手 ChatGLM-6B，很高兴见到你，欢迎问我任何问题。'],\n",
       " ['你好', '你好👋！我是 ChatGLM-6B，很高兴见到你，欢迎问我任何问题。']]"
      ]
     },
     "execution_count": 6,
     "metadata": {},
     "output_type": "execute_result"
    }
   ],
   "source": [
    "history"
   ]
  },
  {
   "cell_type": "code",
   "execution_count": 7,
   "id": "4daa57a0-f403-4c9a-b493-de844012315b",
   "metadata": {},
   "outputs": [],
   "source": [
    "response, history = llm._call('请介绍一下你自己')"
   ]
  },
  {
   "cell_type": "code",
   "execution_count": 8,
   "id": "b4689360-f7d9-4efe-81fb-a0becf6a00fc",
   "metadata": {},
   "outputs": [
    {
     "data": {
      "text/plain": [
       "'你好，我是 ChatGLM-6B，是清华大学KEG实验室和智谱AI公司于 2023 年共同训练的语言模型。我的任务是针对用户的问题和要求提供适当的答复和支持。'"
      ]
     },
     "execution_count": 8,
     "metadata": {},
     "output_type": "execute_result"
    }
   ],
   "source": [
    "response"
   ]
  },
  {
   "cell_type": "code",
   "execution_count": 9,
   "id": "fe3317c9-ba0e-4cce-a0fa-714a211aba4e",
   "metadata": {},
   "outputs": [
    {
     "data": {
      "text/plain": [
       "[['你好', '你好👋！我是人工智能助手 ChatGLM-6B，很高兴见到你，欢迎问我任何问题。'],\n",
       " ['你好', '你好👋！我是 ChatGLM-6B，很高兴见到你，欢迎问我任何问题。'],\n",
       " ['请介绍一下你自己',\n",
       "  '你好，我是 ChatGLM-6B，是清华大学KEG实验室和智谱AI公司于 2023 年共同训练的语言模型。我的任务是针对用户的问题和要求提供适当的答复和支持。']]"
      ]
     },
     "execution_count": 9,
     "metadata": {},
     "output_type": "execute_result"
    }
   ],
   "source": [
    "history"
   ]
  },
  {
   "cell_type": "code",
   "execution_count": 11,
   "id": "a69b97c7-d584-49fe-9925-cb20641a58c9",
   "metadata": {},
   "outputs": [],
   "source": [
    "response, history = llm._call('请写一段关于PCA降维可视化的代码')"
   ]
  },
  {
   "cell_type": "code",
   "execution_count": 13,
   "id": "9a2f1d00-cae9-488a-8b91-a88f510d5ef5",
   "metadata": {},
   "outputs": [
    {
     "name": "stdout",
     "output_type": "stream",
     "text": [
      "好的，以下是一个简单的 Python 代码，用于展示 PCA 降维的可视化：\n",
      "\n",
      "```python\n",
      "import matplotlib.pyplot as plt\n",
      "import numpy as np\n",
      "\n",
      "# 定义数据\n",
      "data = np.array([1, 2, 3, 4, 5, 6, 7, 8, 9, 10])\n",
      "\n",
      "# 使用 PCA 进行降维\n",
      "pca = np.power(np.power(data.reshape(-1, 1), 2), 0.5)\n",
      "\n",
      "# 将降维后的数据和原始数据进行比较\n",
      "data_pca = data[:-1] + pca\n",
      "print(\"Original data: \", data.reshape(-1, 1))\n",
      "print(\"Pca-降维 data: \", pca.reshape(-1, 1))\n",
      "\n",
      "# 可视化降维\n",
      "plt.imshow(pca, cmap='gray', aspect='auto', extent=[0, 10, 0, 10])\n",
      "plt.xlabel('X-axis')\n",
      "plt.ylabel('Y-axis')\n",
      "plt.title('Pca 降维')\n",
      "plt.show()\n",
      "```\n",
      "\n",
      "这个代码将原始数据(10 个变量)进行 PCA 降维，并将降维后的数据和原始数据进行比较。降维后的数据将颜色表示为该变量的值，而原始数据将颜色表示为该变量在原始数据中的分布。最后，代码将使用imshow() 函数来可视化降维。\n"
     ]
    }
   ],
   "source": [
    "print(response)"
   ]
  },
  {
   "cell_type": "code",
   "execution_count": 17,
   "id": "3589bcbe-ff6e-4edb-a3ea-394564f370ab",
   "metadata": {},
   "outputs": [],
   "source": [
    "response, history = llm._call('请你修改上面的代码，将原始数据中的每一个变量乘以二')"
   ]
  },
  {
   "cell_type": "code",
   "execution_count": 19,
   "id": "94afbc37-3cf4-4443-b74b-094fde4f6e5b",
   "metadata": {},
   "outputs": [
    {
     "name": "stdout",
     "output_type": "stream",
     "text": [
      "好的，以下是将原始数据中的每一个变量乘以二的修改后的代码：\n",
      "\n",
      "```python\n",
      "import matplotlib.pyplot as plt\n",
      "import numpy as np\n",
      "\n",
      "# 定义数据\n",
      "data = np.array([1, 2, 3, 4, 5, 6, 7, 8, 9, 10])\n",
      "\n",
      "# 将原始数据中的每个变量乘以二\n",
      "data_pca = data[:-1] * 2\n",
      "\n",
      "# 将降维后的数据和原始数据进行比较\n",
      "print(\"Original data: \", data.reshape(-1, 1))\n",
      "print(\"Pca-降维 data: \", data_pca.reshape(-1, 1))\n",
      "\n",
      "# 可视化降维\n",
      "plt.imshow(data_pca, cmap='gray', aspect='auto', extent=[0, 10, 0, 10])\n",
      "plt.xlabel('X-axis')\n",
      "plt.ylabel('Y-axis')\n",
      "plt.title('Pca 降维')\n",
      "plt.show()\n",
      "```\n",
      "\n",
      "修改后代码将原始数据中的每个变量乘以二，并使用imshow() 函数来可视化降维。\n"
     ]
    }
   ],
   "source": [
    "print(response)"
   ]
  },
  {
   "cell_type": "code",
   "execution_count": null,
   "id": "a25e5d49-c1f4-4c0f-8d8b-2732cb7dafe9",
   "metadata": {},
   "outputs": [],
   "source": []
  }
 ],
 "metadata": {
  "kernelspec": {
   "display_name": "Python 3 (ipykernel)",
   "language": "python",
   "name": "python3"
  },
  "language_info": {
   "codemirror_mode": {
    "name": "ipython",
    "version": 3
   },
   "file_extension": ".py",
   "mimetype": "text/x-python",
   "name": "python",
   "nbconvert_exporter": "python",
   "pygments_lexer": "ipython3",
   "version": "3.9.16"
  }
 },
 "nbformat": 4,
 "nbformat_minor": 5
}
