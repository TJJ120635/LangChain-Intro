{
 "cells": [
  {
   "cell_type": "markdown",
   "id": "31a22c36-6e7d-4c19-abeb-07aec64e475f",
   "metadata": {},
   "source": [
    "整体流程\n",
    "\n",
    "1. 把你的内容拆成一块块的小文件块、对块进行了Embedding后放入向量库索引 （为后面提供语义搜索做准备）。\n",
    "\n",
    "2. 搜索的时候把Query进行Embedding后通过语义检索找到最相似的K个Docs。\n",
    "\n",
    "3. 把相关的Docs组装成Prompt的Context，基于相关内容进行QA，让GPT进行In Context Learning，用人话回答问题。"
   ]
  },
  {
   "cell_type": "markdown",
   "id": "8eef6598-4c4a-4679-a590-1a358df88378",
   "metadata": {},
   "source": [
    "## 1. 环境准备"
   ]
  },
  {
   "cell_type": "code",
   "execution_count": 1,
   "id": "27d1da50-d987-4fa7-acf5-609e7ccf475d",
   "metadata": {},
   "outputs": [],
   "source": [
    "import os\n",
    "os.environ[\"OPENAI_API_KEY\"] = \"Key\" # 填入自己的 OpenAI Key\n",
    "os.environ[\"HTTP_PROXY\"] = \"127.0.0.1:1080\"\n",
    "os.environ[\"HTTPS_PROXY\"] = \"127.0.0.1:1080\""
   ]
  },
  {
   "cell_type": "markdown",
   "id": "06ac1aa6-8246-4e72-ba10-733983547e0e",
   "metadata": {},
   "source": [
    "## 2. 载入 PDF"
   ]
  },
  {
   "cell_type": "code",
   "execution_count": 1,
   "id": "364ad4db-1093-40cf-af5b-df8667382c54",
   "metadata": {},
   "outputs": [],
   "source": [
    "import PyPDF2"
   ]
  },
  {
   "cell_type": "code",
   "execution_count": 2,
   "id": "9fbf7397-6e44-4d20-9c21-bac84094e5b2",
   "metadata": {},
   "outputs": [],
   "source": [
    "pdf_path = 'KOS：2023中国市场招聘趋势.pdf'\n",
    "pdf_file = open(pdf_path, 'rb')\n",
    "pdf_reader = PyPDF2.PdfReader(pdf_file)"
   ]
  },
  {
   "cell_type": "markdown",
   "id": "24276dce-30d4-4f26-a107-3374166b81b6",
   "metadata": {},
   "source": [
    "pdf 载入之后会分页进行保存，使用 extract_text() 提取文本"
   ]
  },
  {
   "cell_type": "code",
   "execution_count": 3,
   "id": "74efd8ed-9f3e-4127-b69d-c0b3013736ea",
   "metadata": {},
   "outputs": [
    {
     "data": {
      "text/plain": [
       "'前言\\n2022年，依然是曲折起伏的一年。疫情政策调整、俄乌冲\\n突、美联储加息等事件深刻影响着各行各业。\\n回顾过去这一年，虽然市场充满了不确定性，却仍有不少\\n企业在其中寻获了机遇。我们看到科技、消费品、电商等\\n行业中，有不少企业开始将目光投向海外，扬帆起航，大\\n力发展出海业务；机器人行业在智能技术的加持下，进入\\n到了新的转型期，迎来跨跃式发展；新能源行业在国家政\\n策的鼓励下，增长强劲，进入高质量增长阶段。\\n几家欢喜，几家忧愁。也有行业在过去这一年中面临\\n了前所未有的挑战。地产行业受疫情、政策调控等影\\n响，发生了结构性变化；消费品行业受封控等影响，\\n在逆境中求生，寻求新的突破机会点；医疗大健康行\\n业在后疫情时代，行业泡沫被戳破，企业亟需找到创\\n新破局之路；互联网行业中各个大厂纷纷开始优化结\\n构，以守为攻。\\n进入到2023年，国内疫情防控措施逐渐放松，\\n并进入新阶段，这意味着国内消费将强劲反\\n弹。同时，国家也在持续推进高水平对外开\\n放，吸引外资。多重利好之下，各行业会有怎\\n样的趋势？又将如何影响人才招聘市场？\\nKOS高奥士国际特推出《2023中国人\\n才招聘市场趋势》，分科技、医疗大\\n健康、机器人、地产、新能源、消\\n费/零售/电商、金融、法务、财务、\\n人力资源十大板块总结2022年市场情\\n况，展望2023年行业趋势，并根据市\\n场动向为雇主品牌建设和人才求职方\\n向提供了相关参考建议。\\ni'"
      ]
     },
     "execution_count": 3,
     "metadata": {},
     "output_type": "execute_result"
    }
   ],
   "source": [
    "pdf_reader.pages[2].extract_text()"
   ]
  },
  {
   "cell_type": "markdown",
   "id": "5f44c9a0-b21f-44d7-a3f7-c4064a1519a6",
   "metadata": {},
   "source": [
    "提取所有文本保存到 pdf_content 中"
   ]
  },
  {
   "cell_type": "code",
   "execution_count": 4,
   "id": "31270c33-b234-479e-95ad-ed1c030b87ff",
   "metadata": {},
   "outputs": [],
   "source": [
    "pdf_content = ''\n",
    "for num in range(len(pdf_reader.pages)):\n",
    "    page = pdf_reader.pages[num]\n",
    "    pdf_content += page.extract_text()"
   ]
  },
  {
   "cell_type": "code",
   "execution_count": 5,
   "id": "3e4bc054-e884-4360-9edf-56a28b636ec6",
   "metadata": {},
   "outputs": [
    {
     "data": {
      "text/plain": [
       "34400"
      ]
     },
     "execution_count": 5,
     "metadata": {},
     "output_type": "execute_result"
    }
   ],
   "source": [
    "len(pdf_content)"
   ]
  },
  {
   "cell_type": "markdown",
   "id": "587ba3c2-9308-4aa7-a483-8bd777de8d9a",
   "metadata": {},
   "source": [
    "## 3. 文本清洗"
   ]
  },
  {
   "cell_type": "code",
   "execution_count": 6,
   "id": "71be475f-8406-41be-bb4b-3b13ce847e3f",
   "metadata": {},
   "outputs": [],
   "source": [
    "import re"
   ]
  },
  {
   "cell_type": "markdown",
   "id": "361a7e1b-e7f5-4127-8b5f-eab24f3b7b70",
   "metadata": {},
   "source": [
    "### 3.1 去掉换行符"
   ]
  },
  {
   "cell_type": "code",
   "execution_count": 7,
   "id": "e6a22db0-1722-4a20-8fcc-bb1e159cff96",
   "metadata": {},
   "outputs": [],
   "source": [
    "pdf_content = pdf_content.replace('\\n', '') \n",
    "pdf_content = pdf_content.replace('\\n\\n', '') \n",
    "pdf_content = re.sub(r'\\s+', ' ', pdf_content)"
   ]
  },
  {
   "cell_type": "code",
   "execution_count": 8,
   "id": "3322ea81-c7ed-448c-8fbd-24c9add96401",
   "metadata": {},
   "outputs": [
    {
     "data": {
      "text/plain": [
       "'中国 2023人才市场招聘趋势目录前言科技医疗大健康机器人地产新能源消费/零售/电商金融法务财务人力资源雇主建议人才建议关于我们i 01 152127394955636975838485前言2022年，依然是曲折起伏的一年。疫情政策调整、俄乌冲突、美联储加息等事件深刻影响着各行各业。回顾过去这一年，虽然市场充满了不确定性，却仍有不少企业在其中寻获了机遇。我们看到科技、消费品、电商等行业中，有不少企业开始将目光投向海外，扬帆起航，大力发展出海业务；机器人行业在智能技术的加持下，进入到了新的转型期，迎来跨跃式发展；新能源行业在国家政策的鼓励下，增长强劲，进入高质量增长阶段。几家欢喜，几家忧愁。也有行业在过去这一年中面临了前所未有的挑战。地产行业受疫情、政策调控等影响，发生了结构性变化；消费品行业受封控等影响，在逆境中求生，寻求新的突破机会点；医疗大健康行业在后疫情时代，行业泡沫被戳破，企业亟需找到创新破局之路；互联网行业中各个大厂纷纷开始优化结构，以守为攻。进入到2023年，国内疫情防控措施逐渐放松，并进入新阶段，这意味着国内消费将强劲反弹。同时，国家也在持续推进高水平对外开放，吸引外资。'"
      ]
     },
     "execution_count": 8,
     "metadata": {},
     "output_type": "execute_result"
    }
   ],
   "source": [
    "pdf_content[:500]"
   ]
  },
  {
   "cell_type": "markdown",
   "id": "545528f6-a984-4cae-8bfc-9ce58fc6357a",
   "metadata": {},
   "source": [
    "### 3.2 按句拆分\n",
    "\n",
    "按照句子结束符号，将文档拆分成一句句话"
   ]
  },
  {
   "cell_type": "code",
   "execution_count": 9,
   "id": "1d972be6-264c-434d-bf18-09768c049a5c",
   "metadata": {},
   "outputs": [],
   "source": [
    "pdf_sentences_mark = re.split('(；|。|！|\\!|\\.|？|\\?)', pdf_content) "
   ]
  },
  {
   "cell_type": "code",
   "execution_count": 10,
   "id": "9a65994b-2eee-431d-a1ea-676b1ec3a25d",
   "metadata": {},
   "outputs": [
    {
     "data": {
      "text/plain": [
       "['中国 2023人才市场招聘趋势目录前言科技医疗大健康机器人地产新能源消费/零售/电商金融法务财务人力资源雇主建议人才建议关于我们i 01 152127394955636975838485前言2022年，依然是曲折起伏的一年',\n",
       " '。',\n",
       " '疫情政策调整、俄乌冲突、美联储加息等事件深刻影响着各行各业',\n",
       " '。',\n",
       " '回顾过去这一年，虽然市场充满了不确定性，却仍有不少企业在其中寻获了机遇',\n",
       " '。',\n",
       " '我们看到科技、消费品、电商等行业中，有不少企业开始将目光投向海外，扬帆起航，大力发展出海业务',\n",
       " '；',\n",
       " '机器人行业在智能技术的加持下，进入到了新的转型期，迎来跨跃式发展',\n",
       " '；']"
      ]
     },
     "execution_count": 10,
     "metadata": {},
     "output_type": "execute_result"
    }
   ],
   "source": [
    "pdf_sentences_mark[:10]"
   ]
  },
  {
   "cell_type": "code",
   "execution_count": 11,
   "id": "80962867-6673-4a02-a72b-04e2d30d4c8f",
   "metadata": {},
   "outputs": [],
   "source": [
    "pdf_sentences = []\n",
    "for i in range(int(len(pdf_sentences_mark)/2)):\n",
    "    sent = pdf_sentences_mark[2*i] + pdf_sentences_mark[2*i+1]\n",
    "    pdf_sentences.append(sent)\n",
    "if len(pdf_sentences_mark) % 2 == 1:\n",
    "    pdf_sentences.append(pdf_sentences_mark[len(pdf_sentences_mark)-1])"
   ]
  },
  {
   "cell_type": "code",
   "execution_count": 12,
   "id": "109d8790-5ec8-45cf-b5d8-6a70eec0bea4",
   "metadata": {},
   "outputs": [
    {
     "data": {
      "text/plain": [
       "['中国 2023人才市场招聘趋势目录前言科技医疗大健康机器人地产新能源消费/零售/电商金融法务财务人力资源雇主建议人才建议关于我们i 01 152127394955636975838485前言2022年，依然是曲折起伏的一年。',\n",
       " '疫情政策调整、俄乌冲突、美联储加息等事件深刻影响着各行各业。',\n",
       " '回顾过去这一年，虽然市场充满了不确定性，却仍有不少企业在其中寻获了机遇。',\n",
       " '我们看到科技、消费品、电商等行业中，有不少企业开始将目光投向海外，扬帆起航，大力发展出海业务；',\n",
       " '机器人行业在智能技术的加持下，进入到了新的转型期，迎来跨跃式发展；',\n",
       " '新能源行业在国家政策的鼓励下，增长强劲，进入高质量增长阶段。',\n",
       " '几家欢喜，几家忧愁。',\n",
       " '也有行业在过去这一年中面临了前所未有的挑战。',\n",
       " '地产行业受疫情、政策调控等影响，发生了结构性变化；',\n",
       " '消费品行业受封控等影响，在逆境中求生，寻求新的突破机会点；']"
      ]
     },
     "execution_count": 12,
     "metadata": {},
     "output_type": "execute_result"
    }
   ],
   "source": [
    "pdf_sentences[:10]"
   ]
  },
  {
   "cell_type": "markdown",
   "id": "97ae2119-36f0-4d9f-9d57-c647eafc3919",
   "metadata": {},
   "source": [
    "### 3.3 拆分段落\n",
    "\n",
    "将多个句子拼成一个段落，每个段落最大长度为 300"
   ]
  },
  {
   "cell_type": "code",
   "execution_count": 13,
   "id": "73aaec40-5579-4720-b421-89e3d1ff48e4",
   "metadata": {},
   "outputs": [],
   "source": [
    "paragraphs = []\n",
    "max_len = 300\n",
    "current_len = 0\n",
    "current_para = \"\"\n",
    "\n",
    "for sent in pdf_sentences:\n",
    "    sent_len = len(sent)\n",
    "    if current_len + sent_len <= max_len:\n",
    "        current_para += sent\n",
    "        current_len += sent_len\n",
    "    else:\n",
    "        paragraphs.append(current_para.strip())\n",
    "        current_para = sent\n",
    "        current_len = sent_len\n",
    "\n",
    "paragraphs.append(current_para.strip())"
   ]
  },
  {
   "cell_type": "code",
   "execution_count": 14,
   "id": "6d9ee106-b7d5-47f4-91e9-4dd3965588ee",
   "metadata": {},
   "outputs": [
    {
     "data": {
      "text/plain": [
       "['中国 2023人才市场招聘趋势目录前言科技医疗大健康机器人地产新能源消费/零售/电商金融法务财务人力资源雇主建议人才建议关于我们i 01 152127394955636975838485前言2022年，依然是曲折起伏的一年。疫情政策调整、俄乌冲突、美联储加息等事件深刻影响着各行各业。回顾过去这一年，虽然市场充满了不确定性，却仍有不少企业在其中寻获了机遇。我们看到科技、消费品、电商等行业中，有不少企业开始将目光投向海外，扬帆起航，大力发展出海业务；机器人行业在智能技术的加持下，进入到了新的转型期，迎来跨跃式发展；新能源行业在国家政策的鼓励下，增长强劲，进入高质量增长阶段。几家欢喜，几家忧愁。',\n",
       " '也有行业在过去这一年中面临了前所未有的挑战。地产行业受疫情、政策调控等影响，发生了结构性变化；消费品行业受封控等影响，在逆境中求生，寻求新的突破机会点；医疗大健康行业在后疫情时代，行业泡沫被戳破，企业亟需找到创新破局之路；互联网行业中各个大厂纷纷开始优化结构，以守为攻。进入到2023年，国内疫情防控措施逐渐放松，并进入新阶段，这意味着国内消费将强劲反弹。同时，国家也在持续推进高水平对外开放，吸引外资。多重利好之下，各行业会有怎样的趋势？又将如何影响人才招聘市场？']"
      ]
     },
     "execution_count": 14,
     "metadata": {},
     "output_type": "execute_result"
    }
   ],
   "source": [
    "paragraphs[:2]"
   ]
  },
  {
   "cell_type": "markdown",
   "id": "c82898d4-f09d-4214-9904-479b86443723",
   "metadata": {},
   "source": [
    "## 4. 文档持久化"
   ]
  },
  {
   "cell_type": "markdown",
   "id": "bf04067c-0e3c-48f5-88ea-b7f0c4dfa5df",
   "metadata": {},
   "source": [
    "### 4.1 段落保存\n",
    "\n",
    "将每个段落从一段字符串变成一个 Document，全篇 PDF 整合到 documents 中"
   ]
  },
  {
   "cell_type": "code",
   "execution_count": 15,
   "id": "87fee8fa-bf20-4886-8c2f-5b8411cf575f",
   "metadata": {},
   "outputs": [],
   "source": [
    "from langchain.docstore.document import Document"
   ]
  },
  {
   "cell_type": "code",
   "execution_count": 16,
   "id": "fe867826-73e4-424a-9b4d-cce13522d61a",
   "metadata": {},
   "outputs": [],
   "source": [
    "documents = []\n",
    "metadata = {\"source\": pdf_path}\n",
    "for para in paragraphs:\n",
    "    new_doc = Document(page_content=para, metadata=metadata)\n",
    "    documents.append(new_doc)"
   ]
  },
  {
   "cell_type": "code",
   "execution_count": 17,
   "id": "6838a0a1-399f-43a0-b1db-19d99c26c497",
   "metadata": {},
   "outputs": [
    {
     "data": {
      "text/plain": [
       "Document(page_content='中国 2023人才市场招聘趋势目录前言科技医疗大健康机器人地产新能源消费/零售/电商金融法务财务人力资源雇主建议人才建议关于我们i 01 152127394955636975838485前言2022年，依然是曲折起伏的一年。疫情政策调整、俄乌冲突、美联储加息等事件深刻影响着各行各业。回顾过去这一年，虽然市场充满了不确定性，却仍有不少企业在其中寻获了机遇。我们看到科技、消费品、电商等行业中，有不少企业开始将目光投向海外，扬帆起航，大力发展出海业务；机器人行业在智能技术的加持下，进入到了新的转型期，迎来跨跃式发展；新能源行业在国家政策的鼓励下，增长强劲，进入高质量增长阶段。几家欢喜，几家忧愁。', metadata={'source': 'KOS：2023中国市场招聘趋势.pdf'})"
      ]
     },
     "execution_count": 17,
     "metadata": {},
     "output_type": "execute_result"
    }
   ],
   "source": [
    "documents[0]"
   ]
  },
  {
   "cell_type": "markdown",
   "id": "6b4259ae-f9c2-4522-9720-87b5297c2f38",
   "metadata": {},
   "source": [
    "### 4.2 使用 OpenAI Embeddings 进行文档向量化（二选一）\n",
    "\n",
    "将每个 Document 变成一个 embedding，保存到向量数据库中（本地文件）\n",
    "\n",
    "不同模型之间的目录需要分开，否则会出现写入文件的错误"
   ]
  },
  {
   "cell_type": "code",
   "execution_count": 1,
   "id": "67c84e63-c573-411d-a853-799baa45c67e",
   "metadata": {},
   "outputs": [],
   "source": [
    "from langchain.embeddings.openai import OpenAIEmbeddings\n",
    "from langchain.vectorstores import Chroma"
   ]
  },
  {
   "cell_type": "code",
   "execution_count": 22,
   "id": "9a7dc685-7845-4815-ae8e-7492d9099e63",
   "metadata": {},
   "outputs": [
    {
     "name": "stderr",
     "output_type": "stream",
     "text": [
      "Using embedded DuckDB with persistence: data will be stored in: db_openai\n"
     ]
    }
   ],
   "source": [
    "persist_directory = 'db_openai'\n",
    "embedding = OpenAIEmbeddings()\n",
    "vectordb = Chroma.from_documents(documents=documents, embedding=embedding, persist_directory=persist_directory)\n",
    "vectordb.persist()"
   ]
  },
  {
   "cell_type": "code",
   "execution_count": 23,
   "id": "49436d0b-fa85-489d-b011-03ab48f0d76f",
   "metadata": {},
   "outputs": [],
   "source": [
    "vectordb = None"
   ]
  },
  {
   "cell_type": "markdown",
   "id": "f2f07388-276e-43d0-8971-618c728960b1",
   "metadata": {},
   "source": [
    "### 4.3 使用本地 Embeddings 进行文档向量化（二选一）\n",
    "\n",
    "将每个 Document 变成一个 embedding，保存到向量数据库中（本地文件）\n",
    "\n",
    "首先需要下载整个项目 https://huggingface.co/shibing624/text2vec-base-chinese"
   ]
  },
  {
   "cell_type": "code",
   "execution_count": 1,
   "id": "dc6389f1-183e-47f8-a73d-8e3b0d788cc5",
   "metadata": {},
   "outputs": [],
   "source": [
    "from langchain.embeddings import HuggingFaceEmbeddings\n",
    "from langchain.vectorstores import Chroma"
   ]
  },
  {
   "cell_type": "markdown",
   "id": "cbb402dc-9533-44c4-82a0-9b1a54edc3c0",
   "metadata": {},
   "source": [
    "指定项目文件夹的路径\n",
    "\n",
    "这里的报错 No sentence-transformers model found 不影响使用"
   ]
  },
  {
   "cell_type": "code",
   "execution_count": 2,
   "id": "3e0308b8-2338-44da-bceb-62c14c3d6b77",
   "metadata": {},
   "outputs": [
    {
     "name": "stderr",
     "output_type": "stream",
     "text": [
      "/root/anaconda3/envs/chat/lib/python3.9/site-packages/tqdm/auto.py:21: TqdmWarning: IProgress not found. Please update jupyter and ipywidgets. See https://ipywidgets.readthedocs.io/en/stable/user_install.html\n",
      "  from .autonotebook import tqdm as notebook_tqdm\n",
      "No sentence-transformers model found with name text2vec-base-chinese. Creating a new one with MEAN pooling.\n"
     ]
    }
   ],
   "source": [
    "embedding = HuggingFaceEmbeddings(model_name='text2vec-base-chinese')"
   ]
  },
  {
   "cell_type": "markdown",
   "id": "5afbb690-15aa-46e7-b12f-b20a45f5d5aa",
   "metadata": {},
   "source": [
    "这里需要选择数据库目录"
   ]
  },
  {
   "cell_type": "code",
   "execution_count": 20,
   "id": "8fd6896b-202c-4513-b701-3abca1d22dad",
   "metadata": {},
   "outputs": [
    {
     "name": "stderr",
     "output_type": "stream",
     "text": [
      "Using embedded DuckDB with persistence: data will be stored in: db_huggingface\n"
     ]
    }
   ],
   "source": [
    "persist_directory = 'db_huggingface'\n",
    "vectordb = Chroma.from_documents(documents=documents, embedding=embedding, persist_directory=persist_directory)\n",
    "vectordb.persist()"
   ]
  },
  {
   "cell_type": "code",
   "execution_count": 21,
   "id": "a786b069-0cd7-427e-900a-1f1aaf595ace",
   "metadata": {},
   "outputs": [],
   "source": [
    "vectordb = None"
   ]
  },
  {
   "cell_type": "markdown",
   "id": "69f954cd-ab7f-452e-9c2b-58399c93f777",
   "metadata": {},
   "source": [
    "## 5. 文档读取"
   ]
  },
  {
   "cell_type": "markdown",
   "id": "65180750-70f1-4a94-9606-28c7140b551f",
   "metadata": {},
   "source": [
    "### 5.1 创建 retriever"
   ]
  },
  {
   "cell_type": "markdown",
   "id": "e36dd6fa-660e-4192-a3de-b1da9024692e",
   "metadata": {},
   "source": [
    "retriever 用于根据索引查询向量数据库\n",
    "\n",
    "搜索出 k 个最相关的 Document"
   ]
  },
  {
   "cell_type": "code",
   "execution_count": 3,
   "id": "56bff7ae-295e-4878-ae22-d3717acd553c",
   "metadata": {},
   "outputs": [
    {
     "name": "stderr",
     "output_type": "stream",
     "text": [
      "Using embedded DuckDB with persistence: data will be stored in: db_huggingface\n"
     ]
    }
   ],
   "source": [
    "vectordb = Chroma(persist_directory='db_huggingface', embedding_function=embedding)\n",
    "retriever = vectordb.as_retriever(search_kwargs={\"k\": 3})"
   ]
  },
  {
   "cell_type": "markdown",
   "id": "19a06a3a-2174-470e-9bb8-6ff4fa8f9da2",
   "metadata": {},
   "source": [
    "### 5.2 创建 prompt 模板\n",
    "\n",
    "创建一个 prompt 模板，用于进行文档问答\n",
    "\n",
    "需要让语言模型根据文档内容来进行回答，超出范围的内容则回答我不知道"
   ]
  },
  {
   "cell_type": "code",
   "execution_count": 4,
   "id": "e49625b2-380e-4c7d-ad56-47feb5dceb97",
   "metadata": {},
   "outputs": [],
   "source": [
    "from langchain.prompts import PromptTemplate"
   ]
  },
  {
   "cell_type": "code",
   "execution_count": 5,
   "id": "f659a87e-5e1f-4ff6-8bf7-d11c10c877f3",
   "metadata": {},
   "outputs": [],
   "source": [
    "prompt_template=\"\"\"请注意：请谨慎评估Query与提示的Context信息的相关性，只根据本段输入文字信息的内容进行回答，如果Query与提供的材料无关，请回答\"我不知道\"，另外也不要回答无关答案：\n",
    "    Context: {context}\n",
    "    Query: {query}\n",
    "    Answer:\"\"\"\n",
    "\n",
    "prompt = PromptTemplate(\n",
    "    input_variables=[\"context\", \"query\"],\n",
    "    template=prompt_template\n",
    ")"
   ]
  },
  {
   "cell_type": "markdown",
   "id": "b3d31ca1-373a-454a-90cb-8e3581bb2227",
   "metadata": {},
   "source": [
    "### 5.3 编写提问\n",
    "\n",
    "首先填写一个具体的问题\n",
    "\n",
    "使用 retriever 从知识库中找到最相关的 k 个 Document"
   ]
  },
  {
   "cell_type": "code",
   "execution_count": 6,
   "id": "39925067-6bd2-4ebf-b92c-f82660cc049f",
   "metadata": {},
   "outputs": [],
   "source": [
    "query = '2022年国内新能源车的渗透率是多少?'\n",
    "docs = retriever.get_relevant_documents(query)"
   ]
  },
  {
   "cell_type": "code",
   "execution_count": 7,
   "id": "0b96df3a-a24b-4b43-9164-cebf4df4cc25",
   "metadata": {},
   "outputs": [
    {
     "data": {
      "text/plain": [
       "[Document(page_content='到2035年，我国核电在运和在建装机容量将达到2亿千瓦左右，发电量约占全国发电量的10%左右。6. 氢燃料电池发展有望。虽然氢燃料电池还没有广泛应用在各能源行业，但国家已经部署加快能源领域关键核心技术和装备攻关，预计2023年国内将适度超前部署一批氢能项目，着力攻克可再生能源制氢和氢能储运、应用及燃料电池等核心技术，在氢能全产业链关键技术取得一定突破。46新能源各板块增长期望曲线图而新能源行业的2023年招聘趋势，也为上述论述所定调，各个板块都处于不同的增量预期曲线上（如上图）。', metadata={'source': 'KOS：2023中国市场招聘趋势.pdf'}),\n",
       " Document(page_content='2022年注定是新能源车及其产业链提前进入激烈竞争的一年， 既是技术产品营销的竞争，亦是人才争夺的竞争。这一年，国内新能源车的渗透率突破25%， 提前达到三年后目标。 KOS新能源招聘团队认为，在2022人才争夺战中，新能源车人才竞争的42三个战场会分别是研发、交付、营销。 各大车企招聘的增量直接反映其业务发展势头，直观例子是BYD在2022年的销量全面赶超特斯拉，而BYD在招聘市场上的热度亦然如此。我们看到人工智能、大数据技术、汽车研发、电池研发等研发相关岗位招聘需求上涨。制造工艺、机电工程、生产管理、供应链管理等交付类岗位始终需求强劲。', metadata={'source': 'KOS：2023中国市场招聘趋势.pdf'}),\n",
       " Document(page_content='销售人才依然是各大品牌争夺的重点，随着汽车保有量的上升，售后，客服，公关等岗。与新能源车相配套的电池、电机、电控、汽车电子、自动/辅助驾驶、车联网技术、换电站、充电桩、电池回收等相关的企业招聘需求持续走高。 两轮电动车的出海业务异常火热， 相关的产研、营销需求较高。2023New Energy432023年1月6日，国家能源局发布《新型电力系统发展蓝皮书（征求意见稿）》公开征求意见，望打造“新能源＋”模式，加快提升新能源可靠替代能力。意见稿提出推动多领域清洁能源电能替代，充分挖掘用户侧消纳新能源潜力。', metadata={'source': 'KOS：2023中国市场招聘趋势.pdf'})]"
      ]
     },
     "execution_count": 7,
     "metadata": {},
     "output_type": "execute_result"
    }
   ],
   "source": [
    "docs"
   ]
  },
  {
   "cell_type": "markdown",
   "id": "59d6f5b1-b2c7-4e33-88b0-ae5d0e87cd65",
   "metadata": {},
   "source": [
    "## 6. 文档问答\n",
    "\n",
    "在上一步我们根据具体问题 query，得到了相关的段落 docs\n",
    "\n",
    "接下来需要结合 prompt，让语言模型进行回答"
   ]
  },
  {
   "cell_type": "markdown",
   "id": "ec51d09b-cd82-4863-9129-b0871d68b5b1",
   "metadata": {},
   "source": [
    "### 6.1 引入 OpenAI 模型（二选一）\n",
    "\n",
    "这里可以选择使用 OpenAI 模型或者本地的 ChatGLM 模型"
   ]
  },
  {
   "cell_type": "code",
   "execution_count": null,
   "id": "4894aaca-1356-4708-8310-0da9b3fce6e5",
   "metadata": {},
   "outputs": [],
   "source": [
    "from langchain.chat_models import ChatOpenAI\n",
    "llm = ChatOpenAI(temperature=0)"
   ]
  },
  {
   "cell_type": "markdown",
   "id": "a4c4f30d-876b-4a0c-8af7-836970d3e64c",
   "metadata": {},
   "source": [
    "### 6.2 引入 ChatGLM 模型（二选一）"
   ]
  },
  {
   "cell_type": "markdown",
   "id": "636d6140-d6cb-4283-93ad-6e6351ec978e",
   "metadata": {},
   "source": [
    "如果使用本地的 ChatGLM 模型，我们需要自己编写一个类\n",
    "\n",
    "类的核心是 `_call` 函数，通过输入一段 prompt，返回一段输出结果\n",
    "\n",
    "同时需要使用 `__init__` 对模型进行加载\n",
    "\n",
    "这里没有给对话加入历史信息"
   ]
  },
  {
   "cell_type": "code",
   "execution_count": 10,
   "id": "78b75c1b-61b5-4b17-ae7a-f958ae156bc6",
   "metadata": {},
   "outputs": [],
   "source": [
    "from typing import Any, List, Mapping, Optional\n",
    "from langchain.llms.base import LLM\n",
    "from langchain.callbacks.manager import CallbackManagerForLLMRun\n",
    "from transformers import AutoTokenizer, AutoModel, AutoConfig\n",
    "\n",
    "import torch\n",
    "\n",
    "\n",
    "def torch_gc():\n",
    "    # with torch.cuda.device(DEVICE):\n",
    "    torch.cuda.empty_cache()\n",
    "    torch.cuda.ipc_collect()\n",
    "    \n",
    "\n",
    "class ChatGLM(LLM):\n",
    "    max_token: int = 10000\n",
    "    temperature: float = 0.1\n",
    "    top_p = 0.9\n",
    "    tokenizer: object = None\n",
    "    model: object = None\n",
    "\n",
    "    def __init__(\n",
    "        self,\n",
    "        model_path: str = \"chatglm-6b-int4\",\n",
    "        **kwargs\n",
    "    ):\n",
    "        super().__init__()\n",
    "        self.tokenizer = AutoTokenizer.from_pretrained(\n",
    "            model_path,\n",
    "            trust_remote_code=True, \n",
    "            revision=model_path\n",
    "        )\n",
    "        model_config = AutoConfig.from_pretrained(\n",
    "            model_path, \n",
    "            trust_remote_code=True, \n",
    "            revision=model_path\n",
    "        )\n",
    "        self.model = AutoModel.from_pretrained(\n",
    "            model_path, \n",
    "            config=model_config, \n",
    "            trust_remote_code=True, \n",
    "            revision=model_path, \n",
    "            **kwargs\n",
    "        ).half().cuda()\n",
    "        self.model = self.model.eval()\n",
    "        \n",
    "    \n",
    "    @property\n",
    "    def _llm_type(self) -> str:\n",
    "        return \"ChatGLM\"\n",
    "\n",
    "    def _call(\n",
    "        self, \n",
    "        prompt: str,\n",
    "        stop: Optional[List[str]] = None,\n",
    "        run_manager: Optional[CallbackManagerForLLMRun] = None,\n",
    "    ) -> str:\n",
    "        if stop is not None:\n",
    "            raise ValueError(\"stop kwargs are not permitted.\")\n",
    "        \n",
    "        response, _ = self.model.chat(\n",
    "            self.tokenizer,\n",
    "            prompt,\n",
    "            history=[],\n",
    "            max_length=self.max_token,\n",
    "            temperature=self.temperature,\n",
    "        )\n",
    "        torch_gc()\n",
    "        return response"
   ]
  },
  {
   "cell_type": "code",
   "execution_count": 19,
   "id": "0c321544-9bfd-47be-825f-09c367d663f3",
   "metadata": {},
   "outputs": [],
   "source": [
    "import os\n",
    "os.environ[\"TOKENIZERS_PARALLELISM\"] = \"false\""
   ]
  },
  {
   "cell_type": "code",
   "execution_count": 20,
   "id": "fcab314f-fde8-4f9c-84d2-4c473b028ce7",
   "metadata": {},
   "outputs": [
    {
     "name": "stdout",
     "output_type": "stream",
     "text": [
      "Load kernel : chatglm-6b-int4/quantization_kernels_parallel.so\n",
      "Setting CPU quantization kernel threads to 2\n",
      "Parallel kernel is not recommended when parallel num < 4.\n",
      "Using quantization cache\n",
      "Applying quantization to glm layers\n"
     ]
    }
   ],
   "source": [
    "llm = ChatGLM()"
   ]
  },
  {
   "cell_type": "markdown",
   "id": "f9826b40-81a3-4f1e-a680-8d46d4715b20",
   "metadata": {
    "tags": []
   },
   "source": [
    "### 6.2 创建 load_qa_chain\n",
    "\n",
    "LangChain 自带了 load_qa_chain，可以将文档和 prompt 编写到一起，然后调用模型，串联起整个流程\n",
    "\n",
    "chain 的参数：\n",
    "\n",
    "第一个是模型类型，这里使用的是默认的 gpt-3.5-turbo\n",
    "\n",
    "第二个是传递类型，stuff 是将 docs 全部一次性传给模型进行归纳\n",
    "\n",
    "第三个是前面编写好的模板，还未指定具体的 context 和 query"
   ]
  },
  {
   "cell_type": "code",
   "execution_count": 12,
   "id": "434357d7-8bd6-4897-853b-035d5791e111",
   "metadata": {},
   "outputs": [],
   "source": [
    "from langchain.chains.question_answering import load_qa_chain\n",
    "chain = load_qa_chain(llm, chain_type=\"stuff\", prompt=prompt)"
   ]
  },
  {
   "cell_type": "markdown",
   "id": "eeb96939-f559-4854-b64c-bd60ed81d886",
   "metadata": {
    "tags": []
   },
   "source": [
    "### 6.3 调用 chain\n",
    "\n",
    "填入具体参数，docs 是前面查找到的段落，query 是具体的问题\n",
    "\n",
    "（这里有个问题是 context 变成了 input_documents，还不清楚二者是否对应）\n",
    "\n",
    "调用 chain() 就会完成一次问答"
   ]
  },
  {
   "cell_type": "code",
   "execution_count": 13,
   "id": "52707c8f-2d39-48a6-b746-4deb6c7bafae",
   "metadata": {},
   "outputs": [
    {
     "name": "stderr",
     "output_type": "stream",
     "text": [
      "The dtype of attention mask (torch.int64) is not bool\n"
     ]
    }
   ],
   "source": [
    "result = chain({\"input_documents\": docs, \"query\": query}, return_only_outputs=True)"
   ]
  },
  {
   "cell_type": "code",
   "execution_count": 14,
   "id": "31daf176-e827-4441-97b9-e9b7e47ccc9d",
   "metadata": {},
   "outputs": [
    {
     "data": {
      "text/plain": [
       "{'output_text': '2022年国内新能源车的渗透率是25%。'}"
      ]
     },
     "execution_count": 14,
     "metadata": {},
     "output_type": "execute_result"
    }
   ],
   "source": [
    "result"
   ]
  },
  {
   "cell_type": "markdown",
   "id": "d5c98068-aab9-4b1f-a414-715d0918558e",
   "metadata": {
    "tags": []
   },
   "source": [
    "### 6.4 尝试其他问题"
   ]
  },
  {
   "cell_type": "code",
   "execution_count": 15,
   "id": "b5943741-bc64-4b50-b2bb-0cb9c53496d8",
   "metadata": {},
   "outputs": [],
   "source": [
    "query = \"关于2022年的机器人行业企业密度，各国的排名怎么样？\"\n",
    "docs = retriever.get_relevant_documents(query)"
   ]
  },
  {
   "cell_type": "code",
   "execution_count": 16,
   "id": "f88688b9-a6cf-44e2-a08b-ab28702892f2",
   "metadata": {},
   "outputs": [
    {
     "data": {
      "text/plain": [
       "[Document(page_content='232023Robotics24国际机器人联合会（IFR）2022年底统计显示，中国机器人行业企业密度跻身世界第五位——前四位分别是，韩国、新加坡、日本、德国，美国则排在第九。2023年，机器人行业市场预计将保持20到25%的增长，而市场规模则仍在1000亿人民币以上。推动工业机器人发展有三大底层驱动因素，分别为人口结构改变、用劳用工成本的增加、下游应用产业的突出需求。而工业机器人产业链主要由零部件（上游）、机器人本体（中游）、系统集成（下游）以及行业应用等几个环节组成。', metadata={'source': 'KOS：2023中国市场招聘趋势.pdf'}),\n",
       " Document(page_content='去年，全球机器人市场规模达到513亿美元（折3576亿元人民币）。而国内机器人市场规模也突破了1213亿元人民币。在过往的5年里，国内机器人年均增长率为22%。2022年上半年机器人行业融资总额超315亿元人民币，其中，单笔融资金额达到20亿元人民币，其主要业务为轻量级协作机器人研发。国内很多机器人公司借助现有成熟工业链体系，完成弯道超车，在疫情期间，开始把业务重心移至国外。2022年，国内机器人公司出海业务比例占到30%，更有企业有超50%的业务来自海外市场。机器人赛道大体可分为三类：工业机器人、服务机器人、特种机器人。', metadata={'source': 'KOS：2023中国市场招聘趋势.pdf'}),\n",
       " Document(page_content='2022年注定是新能源车及其产业链提前进入激烈竞争的一年， 既是技术产品营销的竞争，亦是人才争夺的竞争。这一年，国内新能源车的渗透率突破25%， 提前达到三年后目标。 KOS新能源招聘团队认为，在2022人才争夺战中，新能源车人才竞争的42三个战场会分别是研发、交付、营销。 各大车企招聘的增量直接反映其业务发展势头，直观例子是BYD在2022年的销量全面赶超特斯拉，而BYD在招聘市场上的热度亦然如此。我们看到人工智能、大数据技术、汽车研发、电池研发等研发相关岗位招聘需求上涨。制造工艺、机电工程、生产管理、供应链管理等交付类岗位始终需求强劲。', metadata={'source': 'KOS：2023中国市场招聘趋势.pdf'})]"
      ]
     },
     "execution_count": 16,
     "metadata": {},
     "output_type": "execute_result"
    }
   ],
   "source": [
    "docs"
   ]
  },
  {
   "cell_type": "code",
   "execution_count": null,
   "id": "b218bf4a-3b9b-4429-82a1-1e664d4bfc1b",
   "metadata": {},
   "outputs": [],
   "source": []
  },
  {
   "cell_type": "markdown",
   "id": "7e444198-d198-447a-af45-997dc7e6c4f0",
   "metadata": {},
   "source": [
    "不需要重复创建 chain，只需要调用即可"
   ]
  },
  {
   "cell_type": "code",
   "execution_count": 17,
   "id": "3fbb51e9-16b6-4471-a713-c72ac0974b13",
   "metadata": {},
   "outputs": [],
   "source": [
    "result = chain.run(input_documents = docs, query = query)"
   ]
  },
  {
   "cell_type": "code",
   "execution_count": 18,
   "id": "1768f942-87ad-48dd-891f-2c2721db48e0",
   "metadata": {},
   "outputs": [
    {
     "data": {
      "text/plain": [
       "'2022年底统计数据显示，中国机器人行业企业密度跻身世界第五位，前四位分别是韩国、新加坡、日本、德国。'"
      ]
     },
     "execution_count": 18,
     "metadata": {},
     "output_type": "execute_result"
    }
   ],
   "source": [
    "result"
   ]
  },
  {
   "cell_type": "code",
   "execution_count": null,
   "id": "9585e098-57a9-46de-b9d5-f474c68489ff",
   "metadata": {},
   "outputs": [],
   "source": []
  }
 ],
 "metadata": {
  "kernelspec": {
   "display_name": "Python 3 (ipykernel)",
   "language": "python",
   "name": "python3"
  },
  "language_info": {
   "codemirror_mode": {
    "name": "ipython",
    "version": 3
   },
   "file_extension": ".py",
   "mimetype": "text/x-python",
   "name": "python",
   "nbconvert_exporter": "python",
   "pygments_lexer": "ipython3",
   "version": "3.9.16"
  }
 },
 "nbformat": 4,
 "nbformat_minor": 5
}
