{
 "cells": [
  {
   "cell_type": "markdown",
   "id": "31a22c36-6e7d-4c19-abeb-07aec64e475f",
   "metadata": {},
   "source": [
    "整体流程\n",
    "\n",
    "1. 把你的内容拆成一块块的小文件块、对块进行了Embedding后放入向量库索引 （为后面提供语义搜索做准备）。\n",
    "\n",
    "2. 搜索的时候把Query进行Embedding后通过语义检索找到最相似的K个Docs。\n",
    "\n",
    "3. 把相关的Docs组装成Prompt的Context，基于相关内容进行QA，让GPT进行In Context Learning，用人话回答问题。"
   ]
  },
  {
   "cell_type": "markdown",
   "id": "8eef6598-4c4a-4679-a590-1a358df88378",
   "metadata": {},
   "source": [
    "## 1. 环境准备"
   ]
  },
  {
   "cell_type": "code",
   "execution_count": null,
   "id": "27d1da50-d987-4fa7-acf5-609e7ccf475d",
   "metadata": {},
   "outputs": [],
   "source": [
    "import os\n",
    "os.environ[\"OPENAI_API_KEY\"] = \"key\" # 填入自己的 OpenAI Key\n",
    "os.environ[\"HTTP_PROXY\"] = \"127.0.0.1:31426\"\n",
    "os.environ[\"HTTPS_PROXY\"] = \"127.0.0.1:31426\""
   ]
  },
  {
   "cell_type": "markdown",
   "id": "562e88f6-f701-4145-96d0-b85678116b49",
   "metadata": {},
   "source": [
    "## 2. LLM测试\n",
    "\n",
    "创建 llm"
   ]
  },
  {
   "cell_type": "code",
   "execution_count": 2,
   "id": "49f21be3-15f5-4bc8-9a94-e33d602ac3b8",
   "metadata": {},
   "outputs": [],
   "source": [
    "from langchain.llms import OpenAI\n",
    "\n",
    "llm = OpenAI(model_name=\"text-ada-001\", temperature=0.9)"
   ]
  },
  {
   "cell_type": "markdown",
   "id": "d990402a-522e-4309-be79-1ca5fc135edb",
   "metadata": {},
   "source": [
    "简单问答"
   ]
  },
  {
   "cell_type": "code",
   "execution_count": 3,
   "id": "18f2347e-3173-4bac-bc24-2adf5e0a4175",
   "metadata": {},
   "outputs": [],
   "source": [
    "query = \"Please introduce yourself.\"\n",
    "result = llm(query)"
   ]
  },
  {
   "cell_type": "code",
   "execution_count": 4,
   "id": "2e1ba6e4-63b3-4be9-8a4e-204323dd23e4",
   "metadata": {},
   "outputs": [
    {
     "name": "stdout",
     "output_type": "stream",
     "text": [
      "\n",
      "\n",
      "I am an experienced software scientist and, currently, a full-time professor at Southern Illinois University Carbondale. I have been working on software development tools and technologies since the early 1990s, and have had a variety of experience with versions of C++ and Java. I am currently working on a tool to improve the quality of software by increasing the number ofuggets of code that it can run.\n"
     ]
    }
   ],
   "source": [
    "print(result)"
   ]
  },
  {
   "cell_type": "markdown",
   "id": "d095c6da-057b-4591-98be-67ee68a46bec",
   "metadata": {},
   "source": [
    "创建 PromptTemplate"
   ]
  },
  {
   "cell_type": "code",
   "execution_count": 5,
   "id": "8042b7bd-86b9-41dd-9029-3a734d1da874",
   "metadata": {},
   "outputs": [],
   "source": [
    "from langchain.prompts import PromptTemplate\n",
    "\n",
    "prompt = PromptTemplate(\n",
    "    input_variables=[\"chara\"],\n",
    "    template=\"Introduce yourself as {chara}\",\n",
    ")\n",
    "\n",
    "query = prompt.format(chara=\"a musician\")"
   ]
  },
  {
   "cell_type": "code",
   "execution_count": 6,
   "id": "fa737db6-efa9-4978-befa-b968a7169546",
   "metadata": {},
   "outputs": [
    {
     "data": {
      "text/plain": [
       "'Introduce yourself as a musician'"
      ]
     },
     "execution_count": 6,
     "metadata": {},
     "output_type": "execute_result"
    }
   ],
   "source": [
    "query"
   ]
  },
  {
   "cell_type": "code",
   "execution_count": 7,
   "id": "bc3204d7-0d03-4793-9778-7f19b1fe5cb1",
   "metadata": {},
   "outputs": [],
   "source": [
    "result = llm(query)"
   ]
  },
  {
   "cell_type": "code",
   "execution_count": 8,
   "id": "3cc8e5e7-b698-4ca2-9cae-06ebb9ff0c53",
   "metadata": {},
   "outputs": [
    {
     "data": {
      "text/plain": [
       "'\\n\\nI am a musician and percussionist. I have been playing music for over 10 years.'"
      ]
     },
     "execution_count": 8,
     "metadata": {},
     "output_type": "execute_result"
    }
   ],
   "source": [
    "result"
   ]
  },
  {
   "cell_type": "markdown",
   "id": "c6fe3970-edfb-42a4-a093-22e17d5e90af",
   "metadata": {},
   "source": [
    "创建 chain"
   ]
  },
  {
   "cell_type": "code",
   "execution_count": 9,
   "id": "67190571-dea4-4041-bbb4-06f7b8d8d9dc",
   "metadata": {},
   "outputs": [],
   "source": [
    "from langchain.chains import LLMChain\n",
    "\n",
    "chain = LLMChain(llm=llm, prompt=prompt)\n",
    "result = chain.run(\"the Dragonborn of The Elder Scrolls\")"
   ]
  },
  {
   "cell_type": "code",
   "execution_count": 10,
   "id": "babbc2c1-6cab-4942-9e8f-8cc213fe396a",
   "metadata": {},
   "outputs": [
    {
     "name": "stdout",
     "output_type": "stream",
     "text": [
      " V: Dragonbulb\n",
      "\n",
      "I am the Dragonborn of the Elder Scrolls V: Dragonbulb. I am a passenger in my tub, reading the instructions that my FryPy technician gave me.\n"
     ]
    }
   ],
   "source": [
    "print(result)"
   ]
  },
  {
   "cell_type": "markdown",
   "id": "82b721c7-f0a8-4417-b094-3993827e159c",
   "metadata": {},
   "source": [
    "## 3. ChatModel测试\n",
    "\n",
    "创建 ChatModel"
   ]
  },
  {
   "cell_type": "code",
   "execution_count": 11,
   "id": "6e69cb16-38a3-4b6a-97da-81a31587cf9e",
   "metadata": {},
   "outputs": [],
   "source": [
    "from langchain.chat_models import ChatOpenAI\n",
    "\n",
    "chat = ChatOpenAI(model=\"gpt-3.5-turbo\", temperature=0.7)"
   ]
  },
  {
   "cell_type": "markdown",
   "id": "ed9bdff9-0c04-4bc8-bb82-6aa222b10346",
   "metadata": {},
   "source": [
    "创建上下文信息"
   ]
  },
  {
   "cell_type": "code",
   "execution_count": 12,
   "id": "6883ca5c-ba18-4525-9bd8-72a8065bbf68",
   "metadata": {},
   "outputs": [],
   "source": [
    "from langchain.schema import (\n",
    "    AIMessage,\n",
    "    HumanMessage,\n",
    "    SystemMessage\n",
    ")"
   ]
  },
  {
   "cell_type": "code",
   "execution_count": 13,
   "id": "40ab884a-9d21-4758-b250-253ce5b64230",
   "metadata": {},
   "outputs": [],
   "source": [
    "messages = [HumanMessage(content=\"请介绍一下你自己.\")]\n",
    "result = chat(messages)"
   ]
  },
  {
   "cell_type": "code",
   "execution_count": 14,
   "id": "2497d326-7ff0-4cb5-8f4e-e6605a91c5eb",
   "metadata": {},
   "outputs": [
    {
     "data": {
      "text/plain": [
       "AIMessage(content='我是一名AI语言模型，由OpenAI开发。我没有自己的个人信息和个性，但我可以根据用户输入的问题或指令进行回复和执行相应的任务。我可以帮助用户回答问题、提供信息、执行计算等各种任务。希望我能对您有所帮助。', additional_kwargs={}, example=False)"
      ]
     },
     "execution_count": 14,
     "metadata": {},
     "output_type": "execute_result"
    }
   ],
   "source": [
    "result"
   ]
  },
  {
   "cell_type": "markdown",
   "id": "8a8e8db0-e0d3-4302-8f41-dae1f2bfd75e",
   "metadata": {},
   "source": [
    "加入系统信息"
   ]
  },
  {
   "cell_type": "code",
   "execution_count": 15,
   "id": "f6691b21-6e2f-45d9-8a0b-0a17a876eac2",
   "metadata": {},
   "outputs": [],
   "source": [
    "messages = [\n",
    "    SystemMessage(content=\"You are the Dragonborn in The Elder Scrolls.\"),\n",
    "    HumanMessage(content=\"请介绍一下你自己.\")\n",
    "]\n",
    "result = chat(messages)"
   ]
  },
  {
   "cell_type": "code",
   "execution_count": 16,
   "id": "454e24ac-de32-4214-8757-11a8fde7df81",
   "metadata": {},
   "outputs": [
    {
     "data": {
      "text/plain": [
       "AIMessage(content='我是一名虚构的角色，被称为“龙裔”，是《上古卷轴》系列游戏中的主角之一。我是一位拥有龙之血统的英雄，能够使用龙语，掌握龙吼和龙咆哮等强大的法术和技能。我的任务是拯救天际省（Skyrim）并击败龙神奥杜因（Alduin），同时探索广阔的大陆，完成各种任务和冒险。我可以选择不同的职业和技能，如战士、法师、盗贼，使用各种武器和魔法，与各种怪物和敌人战斗。我的旅程充满了危险和挑战，但我会努力成为天际省的英雄，赢得人们的尊敬和荣耀。', additional_kwargs={}, example=False)"
      ]
     },
     "execution_count": 16,
     "metadata": {},
     "output_type": "execute_result"
    }
   ],
   "source": [
    "result"
   ]
  },
  {
   "cell_type": "markdown",
   "id": "06ac1aa6-8246-4e72-ba10-733983547e0e",
   "metadata": {},
   "source": [
    "## 4. 载入PDF"
   ]
  },
  {
   "cell_type": "code",
   "execution_count": 17,
   "id": "0e95a185-d8de-468c-ad5c-19b61556d541",
   "metadata": {},
   "outputs": [],
   "source": [
    "from langchain.document_loaders import PyPDFLoader\n",
    "from langchain.text_splitter import CharacterTextSplitter\n",
    "\n",
    "loader = PyPDFLoader(\"KOS：2023中国市场招聘趋势.pdf\")\n",
    "splitter = CharacterTextSplitter(\n",
    "    separator = \"\\n\",\n",
    "    chunk_size = 400,\n",
    "    chunk_overlap  = 100,\n",
    "    length_function = len,\n",
    ")\n",
    "pages = loader.load_and_split(splitter)"
   ]
  },
  {
   "cell_type": "code",
   "execution_count": 18,
   "id": "a3122979-c288-4e7e-8f78-aebfcb0c7f19",
   "metadata": {},
   "outputs": [
    {
     "data": {
      "text/plain": [
       "Document(page_content='2022\\nTechnology\\nI. 出海科技\\n2\\n过往一年，国内经济市场处于疫情三年最低迷不振的时期，以互联网大厂\\n为首的多梯度企业，纷纷做出业务收窄和人员优化的举措，进入保存核心\\n业务实力和最优成本配置的企业防守阶段。纵然众多行业进入了防守阶\\n段，出海科技行业却依旧在其中取得了较为亮眼的发展。\\n改革开放伊始，从以“货”置“货”，到“制造代工”，到现在以“科\\n技”、“设计”原创为主的科技输出，出海科技企业长足稳健的发展，得\\n益于两个主要原因：\\n1. 国内业务增量逐渐减缓，海外市场拓展或成新的机会“蛋糕”。\\n纵观国内互联网发展，中国市场在过去十五年里，经历了高速蓬勃的发\\n展。据公开数据可知，截止到2021年中国网民数达10亿左右，互联网渗透\\n率虽高达7.0%，同比增长率却仅为4.34%。对比2020年，增速下滑5%。\\n国内互联网产业趋于成熟饱和，红海市场无法逆转，因此如何在当下时代', metadata={'source': 'KOS：2023中国市场招聘趋势.pdf', 'page': 4})"
      ]
     },
     "execution_count": 18,
     "metadata": {},
     "output_type": "execute_result"
    }
   ],
   "source": [
    "pages[5]"
   ]
  },
  {
   "cell_type": "markdown",
   "id": "c82898d4-f09d-4214-9904-479b86443723",
   "metadata": {},
   "source": [
    "## 5. 文档存储"
   ]
  },
  {
   "cell_type": "markdown",
   "id": "dc5cb60c-0986-492f-b78f-5ae37ff5b706",
   "metadata": {},
   "source": [
    "### OpenAI Embedding（二选一）"
   ]
  },
  {
   "cell_type": "code",
   "execution_count": 19,
   "id": "67c84e63-c573-411d-a853-799baa45c67e",
   "metadata": {},
   "outputs": [],
   "source": [
    "from langchain.embeddings.openai import OpenAIEmbeddings\n",
    "from langchain.vectorstores import Chroma"
   ]
  },
  {
   "cell_type": "markdown",
   "id": "5f5bafd3-c2f6-4d37-b830-7ce633ca3107",
   "metadata": {},
   "source": [
    "指定 embedding 模型"
   ]
  },
  {
   "cell_type": "code",
   "execution_count": 20,
   "id": "9a7dc685-7845-4815-ae8e-7492d9099e63",
   "metadata": {},
   "outputs": [],
   "source": [
    "embedding = OpenAIEmbeddings()\n",
    "persist_directory = 'db_openai'"
   ]
  },
  {
   "cell_type": "markdown",
   "id": "90e0c6ad-81a5-4b0c-a6b2-353cde729dfa",
   "metadata": {},
   "source": [
    "### 本地 Embedding（二选一）"
   ]
  },
  {
   "cell_type": "code",
   "execution_count": null,
   "id": "8f07e569-9273-40df-a6f2-1caf655174f3",
   "metadata": {},
   "outputs": [],
   "source": [
    "from langchain.embeddings import HuggingFaceEmbeddings\n",
    "from langchain.vectorstores import Chroma"
   ]
  },
  {
   "cell_type": "code",
   "execution_count": null,
   "id": "3cbec7d1-6feb-48f2-bb23-abeec5feba95",
   "metadata": {},
   "outputs": [],
   "source": [
    "embedding = HuggingFaceEmbeddings(model_name='text2vec-base-chinese')\n",
    "persist_directory = 'db_huggingface'"
   ]
  },
  {
   "cell_type": "markdown",
   "id": "e8809a2a-dd8f-430e-ab56-5a33a2194748",
   "metadata": {},
   "source": [
    "如果先持久化 OpenAI 目录，再用 huggingface 模型写入相同目录，则会报错"
   ]
  },
  {
   "cell_type": "code",
   "execution_count": null,
   "id": "42e81202-f720-4a9d-a35c-ba2319278fe0",
   "metadata": {},
   "outputs": [],
   "source": [
    "# persist_directory = 'db_openai'"
   ]
  },
  {
   "cell_type": "markdown",
   "id": "0b2a989b-b15a-4369-b8a2-8d5fd8732aab",
   "metadata": {
    "tags": []
   },
   "source": [
    "### 文档持久化"
   ]
  },
  {
   "cell_type": "markdown",
   "id": "9d4cc8bb-720a-45d2-9519-315641fed1d2",
   "metadata": {},
   "source": [
    "从 Document 构建数据库，并持久化保存"
   ]
  },
  {
   "cell_type": "code",
   "execution_count": 23,
   "id": "2abccfa1-19d0-4f42-86dc-d72e66e75497",
   "metadata": {},
   "outputs": [
    {
     "name": "stderr",
     "output_type": "stream",
     "text": [
      "Using embedded DuckDB with persistence: data will be stored in: db_openai\n"
     ]
    }
   ],
   "source": [
    "vectordb = Chroma.from_documents(\n",
    "    documents=pages, \n",
    "    embedding=embedding, \n",
    "    persist_directory=persist_directory)\n",
    "vectordb.persist()"
   ]
  },
  {
   "cell_type": "markdown",
   "id": "69f954cd-ab7f-452e-9c2b-58399c93f777",
   "metadata": {},
   "source": [
    "## 6. 文档读取"
   ]
  },
  {
   "cell_type": "markdown",
   "id": "1b59c64e-f176-4bf8-b690-2d773de8a229",
   "metadata": {},
   "source": [
    "清理之前的 vectordb，重新从本地读取"
   ]
  },
  {
   "cell_type": "code",
   "execution_count": 24,
   "id": "f82333a3-6ac7-4ebf-a98c-271bfe8a3b74",
   "metadata": {},
   "outputs": [],
   "source": [
    "vectordb = None"
   ]
  },
  {
   "cell_type": "markdown",
   "id": "e36dd6fa-660e-4192-a3de-b1da9024692e",
   "metadata": {},
   "source": [
    "retriever 用于根据索引查询向量数据库\n",
    "\n",
    "搜索出 k 个最相关的 Document"
   ]
  },
  {
   "cell_type": "code",
   "execution_count": 25,
   "id": "56bff7ae-295e-4878-ae22-d3717acd553c",
   "metadata": {},
   "outputs": [
    {
     "name": "stderr",
     "output_type": "stream",
     "text": [
      "Using embedded DuckDB with persistence: data will be stored in: db_openai\n"
     ]
    }
   ],
   "source": [
    "vectordb = Chroma(persist_directory='db_openai', \n",
    "                  embedding_function=embedding)\n",
    "retriever = vectordb.as_retriever(search_kwargs={\"k\": 3})"
   ]
  },
  {
   "cell_type": "code",
   "execution_count": 26,
   "id": "158b0545-0ab0-4709-aa66-440e773cbeab",
   "metadata": {},
   "outputs": [],
   "source": [
    "query = '2022年国内新能源车的渗透率是多少?'\n",
    "docs = retriever.get_relevant_documents(query)"
   ]
  },
  {
   "cell_type": "code",
   "execution_count": 27,
   "id": "3e4fc072-ec8a-4175-952f-c21eb443b0d2",
   "metadata": {},
   "outputs": [
    {
     "data": {
      "text/plain": [
       "[Document(page_content='水平的技术专家为主。\\n国外市场在全球大力发展清洁能源的大环境下，全球各国均提出了大规模\\n的新能源装机目标，储能行业同样受到了多国政府的激励。同时受俄乌冲\\n突影响，欧洲户用储能和商用储能需求激增，不少企业储能出海业务需求\\n和人才需求也维持在高位。 原来便携式储能出海产品在2021年火热，但\\n在2022年则日趋红海，以海外销售管理需求为主。 \\n3. 新能源车产业链：\\n从年初的缺芯到补贴退坡，从传统车企入局到新势力造车格局变化，从特\\n斯拉涨价到超级工厂停产降价，一转眼今天上市的车型已经全面刷新软硬\\n技术，一年半之前还是香饽饽的上一代车型已经被次代全面革新。\\n2022年注定是新能源车及其产业链提前进入激烈竞争的一年， 既是技术\\n产品营销的竞争，亦是人才争夺的竞争。这一年，国内新能源车的渗透率\\n突破25%， 提前达到三年后目标。 \\nKOS新能源招聘团队认为，在2022人才争夺战中，新能源车人才竞争的', metadata={'source': 'KOS：2023中国市场招聘趋势.pdf', 'page': 43}),\n",
       " Document(page_content='2022\\nNew Energy\\n40\\n2022年，在经济增长迟缓、国际关系冲突、国际贸易受阻、国内需求不\\n振，国人饱受新冠困扰的背景下，新能源产业是少数几个被看好的持续发\\n展行业之一。 \\nKOS新能源招聘团队认为在过去一年， 新能源相关企业发展有三个焦点，\\n分别为风电光伏集约式发展、储能板块爆发、新能源车产业链技术持续革\\n新，而从招聘需求上，三个板块各有特点。\\n1. 风电光电：\\n由于实现双碳目标是我国新型电力系统全面铺开建设的重要动因。这一战\\n略目标的实现，很大程度上取决于能源与电力的清洁化程度，以及数智化\\n与分布式能源、智慧能源电力和清洁低碳能源开发利用等技术的应用。\\n国家能源局数据显示，过去的一年，火电装机依然在国内占比50%以上。\\n但在双碳战略的要求下，火电装机比重需逐年减少，新能源电力装机比重\\n和供电能力需明显提高。与此同时，清洁能源消费占比持续提升，风电及', metadata={'source': 'KOS：2023中国市场招聘趋势.pdf', 'page': 42}),\n",
       " Document(page_content='国家能源局数据显示，过去的一年，火电装机依然在国内占比50%以上。\\n但在双碳战略的要求下，火电装机比重需逐年减少，新能源电力装机比重\\n和供电能力需明显提高。与此同时，清洁能源消费占比持续提升，风电及\\n太阳能发电等清洁能源消费量占能源总消费量的比例在不断提升。 由于风\\n电光电企业早年已经历过一轮由政策面引导的发展-泡沫破裂-回归增长的\\n过程， 市场已完成洗牌， 主要业务增长的业务形态以大型集约式电站为\\n主。\\nKOS新能源招聘团队总结2022年风光电企业发展和招聘需求核心是：\\n1. 核心技术产品研发；\\n2. 降本增效提升管理水平；\\n3. 开拓风光配套的产业链。', metadata={'source': 'KOS：2023中国市场招聘趋势.pdf', 'page': 42})]"
      ]
     },
     "execution_count": 27,
     "metadata": {},
     "output_type": "execute_result"
    }
   ],
   "source": [
    "docs"
   ]
  },
  {
   "cell_type": "markdown",
   "id": "ff2db754-bbba-423d-a901-3e27204f5608",
   "metadata": {},
   "source": [
    "## 7. 文档问答"
   ]
  },
  {
   "cell_type": "markdown",
   "id": "78ec0d3b-c6c5-4d35-8a1a-b7ccf2225914",
   "metadata": {},
   "source": [
    "创建一个 prompt 模板，用于进行文档问答\n",
    "\n",
    "需要让语言模型根据文档内容来进行回答，超出范围的内容则回答我不知道"
   ]
  },
  {
   "cell_type": "code",
   "execution_count": 28,
   "id": "f659a87e-5e1f-4ff6-8bf7-d11c10c877f3",
   "metadata": {},
   "outputs": [],
   "source": [
    "from langchain.prompts import PromptTemplate\n",
    "\n",
    "prompt_template=\"\"\"请注意：请谨慎评估提问与提示的上下文材料的相关性，只根据本段输入文字信息的内容进行回答，如果提问与提供的上下文材料无关，请回答\"我不知道\"，不要回答无关答案或编造答案：\n",
    "-----------------------\n",
    "上下文: \n",
    "    {context}\n",
    "-----------------------\n",
    "提问: {query}\n",
    "-----------------------\n",
    "答案:\"\"\"\n",
    "\n",
    "prompt = PromptTemplate(\n",
    "    input_variables=[\"context\", \"query\"],\n",
    "    template=prompt_template\n",
    ")"
   ]
  },
  {
   "cell_type": "markdown",
   "id": "9e10dd39-cd91-4def-aa90-c37949ebbb64",
   "metadata": {},
   "source": [
    "### OpenAI 模型（二选一）"
   ]
  },
  {
   "cell_type": "code",
   "execution_count": 29,
   "id": "4894aaca-1356-4708-8310-0da9b3fce6e5",
   "metadata": {},
   "outputs": [],
   "source": [
    "from langchain.chat_models import ChatOpenAI\n",
    "\n",
    "llm = ChatOpenAI(temperature=0)"
   ]
  },
  {
   "cell_type": "markdown",
   "id": "0654f277-d32b-484a-8eb2-56f1b0b06d4e",
   "metadata": {},
   "source": [
    "### 本地模型（二选一）"
   ]
  },
  {
   "cell_type": "code",
   "execution_count": null,
   "id": "60aae4e5-8407-4d2c-b53f-9d14c6af8e4b",
   "metadata": {},
   "outputs": [],
   "source": [
    "from ChatGLM import ChatGLM\n",
    "\n",
    "llm = ChatGLM(model_path='chatglm-6b-int4')"
   ]
  },
  {
   "cell_type": "markdown",
   "id": "939daeb4-ea6a-4e4a-ab21-ebe26fec118c",
   "metadata": {},
   "source": [
    "### Chain 编写"
   ]
  },
  {
   "cell_type": "markdown",
   "id": "a661ec9e-49dc-4c07-8b95-951adb035780",
   "metadata": {},
   "source": [
    "LangChain 自带了 load_qa_chain，可以将文档和 prompt 编写到一起，然后调用模型，串联起整个流程\n",
    "\n",
    "chain 的参数：\n",
    "\n",
    "第一个是模型类型，这里使用的是默认的 gpt-3.5-turbo\n",
    "\n",
    "第二个是传递类型，stuff 是将 docs 全部一次性传给模型进行归纳\n",
    "\n",
    "第三个是前面编写好的模板，还未指定具体的 context 和 query"
   ]
  },
  {
   "cell_type": "code",
   "execution_count": 30,
   "id": "434357d7-8bd6-4897-853b-035d5791e111",
   "metadata": {},
   "outputs": [],
   "source": [
    "from langchain.chains.question_answering import load_qa_chain\n",
    "\n",
    "chain = load_qa_chain(llm, chain_type=\"stuff\", prompt=prompt)"
   ]
  },
  {
   "cell_type": "markdown",
   "id": "02691cfe-d657-4159-abea-a403acb9d459",
   "metadata": {},
   "source": [
    "调用 chain"
   ]
  },
  {
   "cell_type": "code",
   "execution_count": 31,
   "id": "52707c8f-2d39-48a6-b746-4deb6c7bafae",
   "metadata": {},
   "outputs": [],
   "source": [
    "result = chain({\"input_documents\": docs, \"query\": query}, \n",
    "               return_only_outputs=True)"
   ]
  },
  {
   "cell_type": "code",
   "execution_count": 32,
   "id": "31daf176-e827-4441-97b9-e9b7e47ccc9d",
   "metadata": {},
   "outputs": [
    {
     "data": {
      "text/plain": [
       "{'output_text': '突破25%。'}"
      ]
     },
     "execution_count": 32,
     "metadata": {},
     "output_type": "execute_result"
    }
   ],
   "source": [
    "result"
   ]
  },
  {
   "cell_type": "markdown",
   "id": "e48d59b7-38a5-499e-b85b-905b05007af0",
   "metadata": {},
   "source": [
    "尝试其他问题"
   ]
  },
  {
   "cell_type": "code",
   "execution_count": 33,
   "id": "b5943741-bc64-4b50-b2bb-0cb9c53496d8",
   "metadata": {},
   "outputs": [],
   "source": [
    "query = \"关于2022年的机器人行业企业密度，各国的排名怎么样？\"\n",
    "docs = retriever.get_relevant_documents(query)"
   ]
  },
  {
   "cell_type": "code",
   "execution_count": 34,
   "id": "f88688b9-a6cf-44e2-a08b-ab28702892f2",
   "metadata": {},
   "outputs": [
    {
     "data": {
      "text/plain": [
       "[Document(page_content='2022\\nRobotics\\n22\\n2022年是全球机器人产业高速发展的一年，同时也是中国机器人行业快速\\n向全球市场进军的一年。\\n在这一年里，国内机器人厂商攻克了控制器、伺服系统等关键核心零部件\\n领域的难题，实现了核心零部件国产化。这不仅促进了机器人产业的加\\n速，也帮助到“机器人+”等拓展了应用领域。\\n去年，全球机器人市场规模达到513亿美元（折3576亿元人民币）。而国\\n内机器人市场规模也突破了1213亿元人民币。在过往的5年里，国内机器\\n人年均增长率为22%。2022年上半年机器人行业融资总额超315亿元人民\\n币，其中，单笔融资金额达到20亿元人民币，其主要业务为轻量级协作机\\n器人研发。\\n国内很多机器人公司借助现有成熟工业链体系，完成弯道超车，在疫情期\\n间，开始把业务重心移至国外。2022年，国内机器人公司出海业务比例占\\n到30%，更有企业有超50%的业务来自海外市场。', metadata={'source': 'KOS：2023中国市场招聘趋势.pdf', 'page': 24}),\n",
       " Document(page_content='2023\\nRobotics\\n24\\n国际机器人联合会（IFR）2022年底统计显示，中国机器人行业企业密度\\n跻身世界第五位——前四位分别是，韩国、新加坡、日本、德国，美国则\\n排在第九。\\n2023年，机器人行业市场预计将保持20到25%的增长，而市场规模则仍在\\n1000亿人民币以上。\\n推动工业机器人发展有三大底层驱动因素，分别为人口结构改变、用劳用\\n工成本的增加、下游应用产业的突出需求。\\n而工业机器人产业链主要由零部件（上游）、机器人本体（中游）、系统\\n集成（下游）以及行业应用等几个环节组成。在成本结构中，上游技术壁\\n垒较高的核心零部件占比较高，伺服系统、控制器与减速器成本占比超\\n70%，其中减速器占到一半，本体制造约占15%。\\n近年来，随着工业机器人、高端数控机床等智能制造领域的快速发展，谐\\n波与RV（旋转矢量）减速器已成为高精密传动领域广泛使用的精密减速', metadata={'source': 'KOS：2023中国市场招聘趋势.pdf', 'page': 26}),\n",
       " Document(page_content='器人研发。\\n国内很多机器人公司借助现有成熟工业链体系，完成弯道超车，在疫情期\\n间，开始把业务重心移至国外。2022年，国内机器人公司出海业务比例占\\n到30%，更有企业有超50%的业务来自海外市场。\\n机器人赛道大体可分为三类：工业机器人、服务机器人、特种机器人。\\n据人社部发布的2022年第二季度全国“最缺工”职位数据显示，工业机器\\n人行业人才缺口尤为突出，机器人行业人才缺口就高达500万人，复合型\\n人才和高层级人才尤其稀缺。\\n机器人是结合机械、电子、控制、计算机、传感器、人工智能等多学科高\\n新技术于一体的数字化装备。\\n不同于传统互联网行业，机器人行业需要经验积累和技术沉淀。门槛高、\\n强度大、对人才综合能力要求高，都让行业从业者人数始终难以大规模增\\n长。', metadata={'source': 'KOS：2023中国市场招聘趋势.pdf', 'page': 24})]"
      ]
     },
     "execution_count": 34,
     "metadata": {},
     "output_type": "execute_result"
    }
   ],
   "source": [
    "docs"
   ]
  },
  {
   "cell_type": "markdown",
   "id": "7e444198-d198-447a-af45-997dc7e6c4f0",
   "metadata": {},
   "source": [
    "不需要重复创建 chain，只需要调用即可"
   ]
  },
  {
   "cell_type": "code",
   "execution_count": 35,
   "id": "3fbb51e9-16b6-4471-a713-c72ac0974b13",
   "metadata": {},
   "outputs": [],
   "source": [
    "result = chain.run(input_documents = docs, query = query)"
   ]
  },
  {
   "cell_type": "code",
   "execution_count": 36,
   "id": "1768f942-87ad-48dd-891f-2c2721db48e0",
   "metadata": {},
   "outputs": [
    {
     "data": {
      "text/plain": [
       "'中国机器人行业企业密度排名世界第五，前四位分别是韩国、新加坡、日本、德国，美国排名第九。'"
      ]
     },
     "execution_count": 36,
     "metadata": {},
     "output_type": "execute_result"
    }
   ],
   "source": [
    "result"
   ]
  },
  {
   "cell_type": "code",
   "execution_count": null,
   "id": "8585bf3f-c07f-45a6-80a9-a8ec85314fdb",
   "metadata": {},
   "outputs": [],
   "source": []
  }
 ],
 "metadata": {
  "kernelspec": {
   "display_name": "Python 3 (ipykernel)",
   "language": "python",
   "name": "python3"
  },
  "language_info": {
   "codemirror_mode": {
    "name": "ipython",
    "version": 3
   },
   "file_extension": ".py",
   "mimetype": "text/x-python",
   "name": "python",
   "nbconvert_exporter": "python",
   "pygments_lexer": "ipython3",
   "version": "3.9.16"
  }
 },
 "nbformat": 4,
 "nbformat_minor": 5
}
