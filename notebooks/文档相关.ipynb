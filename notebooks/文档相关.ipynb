{
 "cells": [
  {
   "cell_type": "markdown",
   "id": "26fe4089-cdcc-4c89-8dd2-738ab403e1ce",
   "metadata": {},
   "source": [
    "## 一、PDF 加载"
   ]
  },
  {
   "cell_type": "markdown",
   "id": "53530756-a31b-4946-9e21-5a725ebc5e5b",
   "metadata": {},
   "source": [
    "### 1.1 载入 PDF"
   ]
  },
  {
   "cell_type": "code",
   "execution_count": 8,
   "id": "e54e56d3-1356-4876-886b-108c793e4672",
   "metadata": {},
   "outputs": [],
   "source": [
    "import pypdf\n",
    "import re"
   ]
  },
  {
   "cell_type": "code",
   "execution_count": 3,
   "id": "1c1c577d-37e5-4c7b-b750-9176f146dec3",
   "metadata": {},
   "outputs": [],
   "source": [
    "pdf_path = 'files/2023中国市场招聘趋势.pdf'\n",
    "pdf_file = open(pdf_path, 'rb')\n",
    "pdf_reader = pypdf.PdfReader(pdf_file)"
   ]
  },
  {
   "cell_type": "code",
   "execution_count": 4,
   "id": "e14d196c-fabf-40cd-88b6-b35c5e855390",
   "metadata": {},
   "outputs": [
    {
     "data": {
      "text/plain": [
       "'前言\\n2022年，依然是曲折起伏的一年。疫情政策调整、俄乌冲\\n突、美联储加息等事件深刻影响着各行各业。\\n回顾过去这一年，虽然市场充满了不确定性，却仍有不少\\n企业在其中寻获了机遇。我们看到科技、消费品、电商等\\n行业中，有不少企业开始将目光投向海外，扬帆起航，大\\n力发展出海业务；机器人行业在智能技术的加持下，进入\\n到了新的转型期，迎来跨跃式发展；新能源行业在国家政\\n策的鼓励下，增长强劲，进入高质量增长阶段。\\n几家欢喜，几家忧愁。也有行业在过去这一年中面临\\n了前所未有的挑战。地产行业受疫情、政策调控等影\\n响，发生了结构性变化；消费品行业受封控等影响，\\n在逆境中求生，寻求新的突破机会点；医疗大健康行\\n业在后疫情时代，行业泡沫被戳破，企业亟需找到创\\n新破局之路；互联网行业中各个大厂纷纷开始优化结\\n构，以守为攻。\\n进入到2023年，国内疫情防控措施逐渐放松，\\n并进入新阶段，这意味着国内消费将强劲反\\n弹。同时，国家也在持续推进高水平对外开\\n放，吸引外资。多重利好之下，各行业会有怎\\n样的趋势？又将如何影响人才招聘市场？\\nKOS高奥士国际特推出《2023中国人\\n才招聘市场趋势》，分科技、医疗大\\n健康、机器人、地产、新能源、消\\n费/零售/电商、金融、法务、财务、\\n人力资源十大板块总结2022年市场情\\n况，展望2023年行业趋势，并根据市\\n场动向为雇主品牌建设和人才求职方\\n向提供了相关参考建议。\\ni'"
      ]
     },
     "execution_count": 4,
     "metadata": {},
     "output_type": "execute_result"
    }
   ],
   "source": [
    "pdf_reader.pages[2].extract_text()"
   ]
  },
  {
   "cell_type": "code",
   "execution_count": 5,
   "id": "f71447e4-ac8d-46ae-b41b-23745bcf4ec9",
   "metadata": {},
   "outputs": [],
   "source": [
    "pdf_content = ''\n",
    "for num in range(len(pdf_reader.pages)):\n",
    "    page = pdf_reader.pages[num]\n",
    "    pdf_content += page.extract_text()"
   ]
  },
  {
   "cell_type": "code",
   "execution_count": 6,
   "id": "332e48b3-0677-43d7-9194-4c022997d8ff",
   "metadata": {},
   "outputs": [
    {
     "data": {
      "text/plain": [
       "34400"
      ]
     },
     "execution_count": 6,
     "metadata": {},
     "output_type": "execute_result"
    }
   ],
   "source": [
    "len(pdf_content)"
   ]
  },
  {
   "cell_type": "markdown",
   "id": "c9008f01-90ea-4b20-a43f-84d18209d53a",
   "metadata": {},
   "source": [
    "### 1.2 文档清洗"
   ]
  },
  {
   "cell_type": "markdown",
   "id": "2c8c0864-d4c8-4e8c-a77f-b375d97df4c1",
   "metadata": {},
   "source": [
    "去掉换行符"
   ]
  },
  {
   "cell_type": "code",
   "execution_count": 9,
   "id": "f5672464-0ec4-428d-9809-0dee7aef8ab4",
   "metadata": {},
   "outputs": [],
   "source": [
    "pdf_content = pdf_content.replace('\\n', '') \n",
    "pdf_content = pdf_content.replace('\\n\\n', '') \n",
    "pdf_content = re.sub(r'\\s+', ' ', pdf_content)"
   ]
  },
  {
   "cell_type": "code",
   "execution_count": 11,
   "id": "d83d1438-2de7-4432-adf8-7c34ac3cdd3f",
   "metadata": {},
   "outputs": [
    {
     "data": {
      "text/plain": [
       "'中国 2023人才市场招聘趋势目录前言科技医疗大健康机器人地产新能源消费/零售/电商金融法务财务人力资源雇主建议人才建议关于我们i 01 152127394955636975838485前言2022年，依然是曲折起伏的一年。疫情政策调整、俄乌冲突、美联储加息等事件深刻影响着各行各业。回顾过去这一年，虽然市场充满了不确定性，却仍有不少企业在其中寻获了机遇。我们看到科技、消费品、电商等行业中，有不少企业开始将目光投向海外，扬帆起航，大力发展出海业务；机器人行业在智能技术的加持下，进入到了新的转型期，迎来跨跃式发展；新能源行业在国家政策的鼓励下，增长强劲，进入高质量增长阶段。几家欢喜，几家忧愁。也有'"
      ]
     },
     "execution_count": 11,
     "metadata": {},
     "output_type": "execute_result"
    }
   ],
   "source": [
    "pdf_content[:300]"
   ]
  },
  {
   "cell_type": "markdown",
   "id": "c6546d7c-1155-4e41-8899-83dff4458e67",
   "metadata": {},
   "source": [
    "拆分成句子"
   ]
  },
  {
   "cell_type": "code",
   "execution_count": 12,
   "id": "3cbdf7de-62da-4c0d-a4e3-41c46fd2d7e0",
   "metadata": {},
   "outputs": [],
   "source": [
    "pdf_sentences_mark = re.split('(；|。|！|\\!|\\.|？|\\?)', pdf_content) "
   ]
  },
  {
   "cell_type": "code",
   "execution_count": 13,
   "id": "3a88b3ae-db97-4111-b300-e4e131e807ec",
   "metadata": {},
   "outputs": [],
   "source": [
    "pdf_sentences = []\n",
    "for i in range(int(len(pdf_sentences_mark)/2)):\n",
    "    sent = pdf_sentences_mark[2*i] + pdf_sentences_mark[2*i+1]\n",
    "    pdf_sentences.append(sent)\n",
    "if len(pdf_sentences_mark) % 2 == 1:\n",
    "    pdf_sentences.append(pdf_sentences_mark[len(pdf_sentences_mark)-1])"
   ]
  },
  {
   "cell_type": "code",
   "execution_count": 14,
   "id": "d723c43c-d00d-46ae-ace7-608065108aff",
   "metadata": {},
   "outputs": [
    {
     "data": {
      "text/plain": [
       "['中国 2023人才市场招聘趋势目录前言科技医疗大健康机器人地产新能源消费/零售/电商金融法务财务人力资源雇主建议人才建议关于我们i 01 152127394955636975838485前言2022年，依然是曲折起伏的一年。',\n",
       " '疫情政策调整、俄乌冲突、美联储加息等事件深刻影响着各行各业。',\n",
       " '回顾过去这一年，虽然市场充满了不确定性，却仍有不少企业在其中寻获了机遇。',\n",
       " '我们看到科技、消费品、电商等行业中，有不少企业开始将目光投向海外，扬帆起航，大力发展出海业务；',\n",
       " '机器人行业在智能技术的加持下，进入到了新的转型期，迎来跨跃式发展；',\n",
       " '新能源行业在国家政策的鼓励下，增长强劲，进入高质量增长阶段。',\n",
       " '几家欢喜，几家忧愁。',\n",
       " '也有行业在过去这一年中面临了前所未有的挑战。',\n",
       " '地产行业受疫情、政策调控等影响，发生了结构性变化；',\n",
       " '消费品行业受封控等影响，在逆境中求生，寻求新的突破机会点；']"
      ]
     },
     "execution_count": 14,
     "metadata": {},
     "output_type": "execute_result"
    }
   ],
   "source": [
    "pdf_sentences[:10]"
   ]
  },
  {
   "cell_type": "markdown",
   "id": "78ae19de-002e-487c-940b-73656f9118ed",
   "metadata": {},
   "source": [
    "句子合并成段落"
   ]
  },
  {
   "cell_type": "code",
   "execution_count": 15,
   "id": "d00b213e-5eb9-4176-9963-221461c1bb9e",
   "metadata": {},
   "outputs": [],
   "source": [
    "paragraphs = []\n",
    "max_len = 200\n",
    "current_len = 0\n",
    "current_para = \"\"\n",
    "\n",
    "for sent in pdf_sentences:\n",
    "    sent_len = len(sent)\n",
    "    if current_len + sent_len <= max_len:\n",
    "        current_para += sent\n",
    "        current_len += sent_len\n",
    "    else:\n",
    "        paragraphs.append(current_para.strip())\n",
    "        current_para = sent\n",
    "        current_len = sent_len\n",
    "\n",
    "paragraphs.append(current_para.strip())"
   ]
  },
  {
   "cell_type": "code",
   "execution_count": 16,
   "id": "a21ed7aa-ae62-4538-aa41-ab6b648b23c2",
   "metadata": {},
   "outputs": [
    {
     "data": {
      "text/plain": [
       "['中国 2023人才市场招聘趋势目录前言科技医疗大健康机器人地产新能源消费/零售/电商金融法务财务人力资源雇主建议人才建议关于我们i 01 152127394955636975838485前言2022年，依然是曲折起伏的一年。疫情政策调整、俄乌冲突、美联储加息等事件深刻影响着各行各业。回顾过去这一年，虽然市场充满了不确定性，却仍有不少企业在其中寻获了机遇。',\n",
       " '我们看到科技、消费品、电商等行业中，有不少企业开始将目光投向海外，扬帆起航，大力发展出海业务；机器人行业在智能技术的加持下，进入到了新的转型期，迎来跨跃式发展；新能源行业在国家政策的鼓励下，增长强劲，进入高质量增长阶段。几家欢喜，几家忧愁。也有行业在过去这一年中面临了前所未有的挑战。地产行业受疫情、政策调控等影响，发生了结构性变化；消费品行业受封控等影响，在逆境中求生，寻求新的突破机会点；']"
      ]
     },
     "execution_count": 16,
     "metadata": {},
     "output_type": "execute_result"
    }
   ],
   "source": [
    "paragraphs[:2]"
   ]
  },
  {
   "cell_type": "markdown",
   "id": "e0498b82-8cd9-4099-adbf-35ae8a33f22c",
   "metadata": {},
   "source": [
    "段落保存成 Document"
   ]
  },
  {
   "cell_type": "code",
   "execution_count": 17,
   "id": "d78422cd-2fd2-49e6-8fb8-36416f57a01c",
   "metadata": {},
   "outputs": [],
   "source": [
    "from langchain.docstore.document import Document"
   ]
  },
  {
   "cell_type": "code",
   "execution_count": 18,
   "id": "5f5801be-4ff7-4999-8bc4-da4455ef4a35",
   "metadata": {},
   "outputs": [],
   "source": [
    "documents = []\n",
    "metadata = {\"source\": pdf_path}\n",
    "for para in paragraphs:\n",
    "    new_doc = Document(page_content=para, metadata=metadata)\n",
    "    documents.append(new_doc)"
   ]
  },
  {
   "cell_type": "code",
   "execution_count": 19,
   "id": "fd69efea-7b9d-4d7f-898b-18928d9e8eb7",
   "metadata": {},
   "outputs": [
    {
     "data": {
      "text/plain": [
       "[Document(page_content='中国 2023人才市场招聘趋势目录前言科技医疗大健康机器人地产新能源消费/零售/电商金融法务财务人力资源雇主建议人才建议关于我们i 01 152127394955636975838485前言2022年，依然是曲折起伏的一年。疫情政策调整、俄乌冲突、美联储加息等事件深刻影响着各行各业。回顾过去这一年，虽然市场充满了不确定性，却仍有不少企业在其中寻获了机遇。', metadata={'source': 'files/2023中国市场招聘趋势.pdf'}),\n",
       " Document(page_content='我们看到科技、消费品、电商等行业中，有不少企业开始将目光投向海外，扬帆起航，大力发展出海业务；机器人行业在智能技术的加持下，进入到了新的转型期，迎来跨跃式发展；新能源行业在国家政策的鼓励下，增长强劲，进入高质量增长阶段。几家欢喜，几家忧愁。也有行业在过去这一年中面临了前所未有的挑战。地产行业受疫情、政策调控等影响，发生了结构性变化；消费品行业受封控等影响，在逆境中求生，寻求新的突破机会点；', metadata={'source': 'files/2023中国市场招聘趋势.pdf'})]"
      ]
     },
     "execution_count": 19,
     "metadata": {},
     "output_type": "execute_result"
    }
   ],
   "source": [
    "documents[:2]"
   ]
  },
  {
   "cell_type": "markdown",
   "id": "20c9bcb4-22f8-4683-b91d-7d5a557af1b8",
   "metadata": {},
   "source": [
    "## 二、多文档导入"
   ]
  },
  {
   "cell_type": "code",
   "execution_count": 1,
   "id": "dccf9910-99ac-4c7b-83af-37aa32838dad",
   "metadata": {},
   "outputs": [],
   "source": [
    "import os\n",
    "from langchain.embeddings import HuggingFaceEmbeddings\n",
    "from langchain.document_loaders import PyPDFLoader\n",
    "from langchain.vectorstores import FAISS"
   ]
  },
  {
   "cell_type": "code",
   "execution_count": 2,
   "id": "17dadbba-6877-4450-8e37-6c54f025918e",
   "metadata": {},
   "outputs": [],
   "source": [
    "from PDFLoader import *"
   ]
  },
  {
   "cell_type": "code",
   "execution_count": 3,
   "id": "0ecc29b4-5fe3-4450-a6c8-ed050358aa58",
   "metadata": {},
   "outputs": [
    {
     "name": "stderr",
     "output_type": "stream",
     "text": [
      "No sentence-transformers model found with name ../../text2vec-base-chinese/. Creating a new one with MEAN pooling.\n"
     ]
    }
   ],
   "source": [
    "db_embedding = HuggingFaceEmbeddings(model_name='../../text2vec-base-chinese/')\n",
    "db_directory = 'db_huggingface/'"
   ]
  },
  {
   "cell_type": "markdown",
   "id": "d657cef1-6035-42b2-8a19-705cdf3c6815",
   "metadata": {},
   "source": [
    "### 2.1 载入文件列表"
   ]
  },
  {
   "cell_type": "code",
   "execution_count": 4,
   "id": "4c0b10ec-e31c-4e9d-85af-5be4a6733651",
   "metadata": {},
   "outputs": [],
   "source": [
    "file_path = 'files/'\n",
    "file_list = []"
   ]
  },
  {
   "cell_type": "code",
   "execution_count": 5,
   "id": "eb1bb9c3-3ffb-4fda-9f60-ab95ea0822a1",
   "metadata": {},
   "outputs": [],
   "source": [
    "for root, dirs, files in os.walk(file_path):\n",
    "    for file in files:\n",
    "        file_list.append(file)"
   ]
  },
  {
   "cell_type": "markdown",
   "id": "8502d48a-7636-4c90-929a-3bc5bae49151",
   "metadata": {},
   "source": [
    "### 2.2 新建数据库"
   ]
  },
  {
   "cell_type": "code",
   "execution_count": 6,
   "id": "12537d5c-98d4-472d-950d-6c127a71b13d",
   "metadata": {},
   "outputs": [],
   "source": [
    "text_splitter = PDFTextSplitter(\n",
    "    chunk_size=200,\n",
    "    chunk_overlap=50,\n",
    "    length_function=len,\n",
    ")"
   ]
  },
  {
   "cell_type": "code",
   "execution_count": 7,
   "id": "cb863d2e-53f1-41cd-87ac-941ceb9132a9",
   "metadata": {},
   "outputs": [],
   "source": [
    "loader = PyPDFLoader(file_path + file_list[0])\n",
    "docs = loader.load_and_split(text_splitter)\n",
    "vectordb = FAISS.from_documents(docs, db_embedding)"
   ]
  },
  {
   "cell_type": "code",
   "execution_count": 8,
   "id": "aebfeb17-7dfb-42cc-adbe-bd8a50f3e525",
   "metadata": {},
   "outputs": [],
   "source": [
    "vectordb.save_local(db_directory)"
   ]
  },
  {
   "cell_type": "code",
   "execution_count": 9,
   "id": "974b4704-dfe8-4e6a-a528-29de057e419b",
   "metadata": {},
   "outputs": [],
   "source": [
    "retriever = vectordb.as_retriever(search_kwargs={\"k\": 3})"
   ]
  },
  {
   "cell_type": "markdown",
   "id": "c62e0a84-53ef-406e-bc0e-c3bc22a61f18",
   "metadata": {},
   "source": [
    "只添加了一篇文章的情况下查询"
   ]
  },
  {
   "cell_type": "code",
   "execution_count": 10,
   "id": "54d48a26-2f14-4558-acc0-ec50a63c67c2",
   "metadata": {},
   "outputs": [],
   "source": [
    "query = '数据的概念与属性'\n",
    "docs = retriever.get_relevant_documents(query)"
   ]
  },
  {
   "cell_type": "code",
   "execution_count": 11,
   "id": "4356236b-6bbf-458b-85e9-1b6bff77763a",
   "metadata": {},
   "outputs": [
    {
     "data": {
      "text/markdown": [
       "**Metadata:**"
      ],
      "text/plain": [
       "<IPython.core.display.Markdown object>"
      ]
     },
     "metadata": {},
     "output_type": "display_data"
    },
    {
     "name": "stdout",
     "output_type": "stream",
     "text": [
      "'能力。\\n而德勤、安永、毕马威、普华永道也陆续通过发展数字技术、云技术、元\\n宇宙等，打造面向未来的数字产业，应用在工业互联网与智能制造、数字\\n化审计与税收、汽车新能源、医疗健康等领域。\\n2023年企业数字化进程会进一步加快，数据将是整个转型过程中的必不可\\n缺的一环，企业将会投入更多的成本招揽数据处理的人才，例如数据'\n"
     ]
    },
    {
     "data": {
      "text/markdown": [
       "**Content:**"
      ],
      "text/plain": [
       "<IPython.core.display.Markdown object>"
      ]
     },
     "metadata": {},
     "output_type": "display_data"
    },
    {
     "name": "stdout",
     "output_type": "stream",
     "text": [
      "{'page': 14, 'source': 'files/2023中国市场招聘趋势.pdf'}\n",
      "\n"
     ]
    },
    {
     "data": {
      "text/markdown": [
       "**Metadata:**"
      ],
      "text/plain": [
       "<IPython.core.display.Markdown object>"
      ]
     },
     "metadata": {},
     "output_type": "display_data"
    },
    {
     "name": "stdout",
     "output_type": "stream",
     "text": [
      "'Technology2023热门岗位\\n14\\n首席执行官\\n首席技术官\\n首席信息官\\n首席安全官\\n首席数据官\\n数据架构\\n数据科学\\n数据分析\\n数据安全\\n机器学习和算法\\n数字化转型相关\\n解决方案架构师\\n产品设计及运营\\n营销及市场拓展\\n信息安全/漏洞发现/检测\\n攻防安全\\n云架构师\\n云计算工程师\\n供应链经理'\n"
     ]
    },
    {
     "data": {
      "text/markdown": [
       "**Content:**"
      ],
      "text/plain": [
       "<IPython.core.display.Markdown object>"
      ]
     },
     "metadata": {},
     "output_type": "display_data"
    },
    {
     "name": "stdout",
     "output_type": "stream",
     "text": [
      "{'page': 16, 'source': 'files/2023中国市场招聘趋势.pdf'}\n",
      "\n"
     ]
    },
    {
     "data": {
      "text/markdown": [
       "**Metadata:**"
      ],
      "text/plain": [
       "<IPython.core.display.Markdown object>"
      ]
     },
     "metadata": {},
     "output_type": "display_data"
    },
    {
     "name": "stdout",
     "output_type": "stream",
     "text": [
      "'力、应变能力有所要求；在招聘云计算人才时，企业方会希望人才既了解\\n云技术，又懂得对云相关项目、 人才的管理；而在招聘大数据相关人才\\n时，会希望人选同时具备数据分析、自然语言处理、机器学习等多方面的\\n技能。\\n数字化转型需要多个方面支持，要兼具业务能力、全局观、数字化理念和\\n技能。以下三种特点和类型的人才往往最受企业关注：\\n1. 业务专家、领域专业人士往往最受企业青睐。'\n"
     ]
    },
    {
     "data": {
      "text/markdown": [
       "**Content:**"
      ],
      "text/plain": [
       "<IPython.core.display.Markdown object>"
      ]
     },
     "metadata": {},
     "output_type": "display_data"
    },
    {
     "name": "stdout",
     "output_type": "stream",
     "text": [
      "{'page': 11, 'source': 'files/2023中国市场招聘趋势.pdf'}\n",
      "\n"
     ]
    }
   ],
   "source": [
    "printdocs(docs)"
   ]
  },
  {
   "cell_type": "markdown",
   "id": "76d8acc2-f07f-4ed6-806a-f73a705e36a3",
   "metadata": {},
   "source": [
    "### 2.3 向数据库添加文档"
   ]
  },
  {
   "cell_type": "code",
   "execution_count": 24,
   "id": "49bc217d-0242-40b1-a306-1222b6e9d4c1",
   "metadata": {},
   "outputs": [],
   "source": [
    "vectordb = None"
   ]
  },
  {
   "cell_type": "code",
   "execution_count": 26,
   "id": "8a5b429f-ed1a-4770-a8e9-4f1554f3b62d",
   "metadata": {},
   "outputs": [],
   "source": [
    "vectordb = FAISS.load_local(\n",
    "    embeddings=db_embedding, \n",
    "    folder_path=db_directory\n",
    ")"
   ]
  },
  {
   "cell_type": "code",
   "execution_count": 27,
   "id": "7be3286b-6347-4b43-9e2b-c2ad7a89d859",
   "metadata": {},
   "outputs": [],
   "source": [
    "for index, file in enumerate(file_list):\n",
    "    if index == 0:\n",
    "        continue\n",
    "\n",
    "    loader = PyPDFLoader(file_path + file)\n",
    "    docs = loader.load_and_split(text_splitter)\n",
    "\n",
    "    if docs:\n",
    "        vectordb.add_documents(docs)"
   ]
  },
  {
   "cell_type": "code",
   "execution_count": 28,
   "id": "abaa4f9f-80bd-4b08-9aaa-f043ce9c46b1",
   "metadata": {},
   "outputs": [],
   "source": [
    "vectordb.save_local(db_directory)"
   ]
  },
  {
   "cell_type": "markdown",
   "id": "61fbc498-92b7-4ee0-9d3e-7cd7eab0cd34",
   "metadata": {},
   "source": [
    "添加文档后重新查询"
   ]
  },
  {
   "cell_type": "code",
   "execution_count": 29,
   "id": "8ce2d557-a5be-442c-8656-942ce004c6ec",
   "metadata": {},
   "outputs": [],
   "source": [
    "vectordb = None"
   ]
  },
  {
   "cell_type": "code",
   "execution_count": 30,
   "id": "517b8a76-db72-4a37-b6eb-8b2d48a7241d",
   "metadata": {},
   "outputs": [],
   "source": [
    "vectordb = FAISS.load_local(embeddings=db_embedding, folder_path=db_directory)\n",
    "retriever = vectordb.as_retriever(search_kwargs={\"k\": 3})"
   ]
  },
  {
   "cell_type": "code",
   "execution_count": 35,
   "id": "32d02f7c-fb45-4475-89f6-362dd32abf3f",
   "metadata": {},
   "outputs": [],
   "source": [
    "query = '数据的概念与属性'\n",
    "docs = retriever.get_relevant_documents(query)"
   ]
  },
  {
   "cell_type": "code",
   "execution_count": 36,
   "id": "f14cceb8-4d55-48bd-ad1c-5867f8683f05",
   "metadata": {},
   "outputs": [
    {
     "data": {
      "text/markdown": [
       "**Metadata:**"
      ],
      "text/plain": [
       "<IPython.core.display.Markdown object>"
      ]
     },
     "metadata": {},
     "output_type": "display_data"
    },
    {
     "name": "stdout",
     "output_type": "stream",
     "text": [
      "'数据要素白皮书（ 2022年）\\n1 一、数据要素理论问题概述\\n数据要素已快速融入生产、分配、流通、消费和社会服务管理等\\n各个环节，深刻改变着生产方式、生活方式和社会治理方式。如何理\\n解数据的内涵与特性， 把握数据 成为生产要素的背景和价值实现的途\\n径，都是 值得深入探讨的 理论问题。\\n（一） 数据的概念与独特属性\\n在广泛意义上，数据（ data）就是对 事实、活动等现象 的记录。'\n"
     ]
    },
    {
     "data": {
      "text/markdown": [
       "**Content:**"
      ],
      "text/plain": [
       "<IPython.core.display.Markdown object>"
      ]
     },
     "metadata": {},
     "output_type": "display_data"
    },
    {
     "name": "stdout",
     "output_type": "stream",
     "text": [
      "{'page': 6, 'source': 'files/数据要素白皮书-2022.pdf'}\n",
      "\n"
     ]
    },
    {
     "data": {
      "text/markdown": [
       "**Metadata:**"
      ],
      "text/plain": [
       "<IPython.core.display.Markdown object>"
      ]
     },
     "metadata": {},
     "output_type": "display_data"
    },
    {
     "name": "stdout",
     "output_type": "stream",
     "text": [
      "'（一） 数据的概念与独特属性\\n在广泛意义上，数据（ data）就是对 事实、活动等现象 的记录。\\n《辞海》（第七版）将数据定义为“ 描述事物的数字、字符、图形、\\n声音等的表示形式 ”。按照《中华人民共和国数据安全法》中给出的\\n定义，数据是指任何以电子或者其他方式对信息的记录。由此可见，\\n数据本身可以有丰富的表现形式 。\\n数据一直伴随着人类的发展而变迁 。在古代， 数据呈现出规则化'\n"
     ]
    },
    {
     "data": {
      "text/markdown": [
       "**Content:**"
      ],
      "text/plain": [
       "<IPython.core.display.Markdown object>"
      ]
     },
     "metadata": {},
     "output_type": "display_data"
    },
    {
     "name": "stdout",
     "output_type": "stream",
     "text": [
      "{'page': 6, 'source': 'files/数据要素白皮书-2022.pdf'}\n",
      "\n"
     ]
    },
    {
     "data": {
      "text/markdown": [
       "**Metadata:**"
      ],
      "text/plain": [
       "<IPython.core.display.Markdown object>"
      ]
     },
     "metadata": {},
     "output_type": "display_data"
    },
    {
     "name": "stdout",
     "output_type": "stream",
     "text": [
      "'数据蕴含的价值 参与生产活动 。\\n来源：中国信息通信研究院\\n图 2 数据要素 主要表现形态'\n"
     ]
    },
    {
     "data": {
      "text/markdown": [
       "**Content:**"
      ],
      "text/plain": [
       "<IPython.core.display.Markdown object>"
      ]
     },
     "metadata": {},
     "output_type": "display_data"
    },
    {
     "name": "stdout",
     "output_type": "stream",
     "text": [
      "{'page': 12, 'source': 'files/数据要素白皮书-2022.pdf'}\n",
      "\n"
     ]
    }
   ],
   "source": [
    "printdocs(docs)"
   ]
  },
  {
   "cell_type": "code",
   "execution_count": null,
   "id": "48595624-28cc-47d5-8de1-b5502f8b7817",
   "metadata": {},
   "outputs": [],
   "source": [
    "from transformers import AutoTokenizer\n",
    "\n",
    "tokenizer = AutoTokenizer.from_pretrained(\n",
    "    '../models/chatglm-6b-int4/',\n",
    "    trust_remote_code=True, \n",
    "    revision='chatglm'\n",
    ")"
   ]
  },
  {
   "cell_type": "code",
   "execution_count": null,
   "id": "3b04dbe6-1ad0-4e90-b123-456ecfd27015",
   "metadata": {},
   "outputs": [],
   "source": [
    "print(docs[3].page_content)"
   ]
  },
  {
   "cell_type": "code",
   "execution_count": null,
   "id": "c7f19ad5-c396-49c4-8a69-9fea71399522",
   "metadata": {},
   "outputs": [],
   "source": [
    "len(docs[3].page_content)"
   ]
  },
  {
   "cell_type": "code",
   "execution_count": null,
   "id": "a1182257-ca16-443c-876a-34f2d5bcfcb5",
   "metadata": {},
   "outputs": [],
   "source": [
    "encoded = tokenizer.encode(docs[3].page_content)"
   ]
  },
  {
   "cell_type": "code",
   "execution_count": null,
   "id": "dd7e11da-28f6-4a04-8465-b9cd393007a0",
   "metadata": {},
   "outputs": [],
   "source": [
    "len(encoded)"
   ]
  },
  {
   "cell_type": "code",
   "execution_count": null,
   "id": "0e339c33-fb4d-4d4f-88e5-29b1bdadfc65",
   "metadata": {},
   "outputs": [],
   "source": [
    "for index, file in enumerate(file_list):\n",
    "    loader = PyPDFLoader(file_path + file)\n",
    "    docs = loader.load_and_split(text_splitter)\n",
    "    content = ''.join(doc.page_content for doc in docs)\n",
    "    if docs:\n",
    "        print(file)\n",
    "        print(len(content))\n",
    "        encoded = tokenizer.encode(content)\n",
    "        print(len(encoded))"
   ]
  }
 ],
 "metadata": {
  "kernelspec": {
   "display_name": "Python 3 (ipykernel)",
   "language": "python",
   "name": "python3"
  },
  "language_info": {
   "codemirror_mode": {
    "name": "ipython",
    "version": 3
   },
   "file_extension": ".py",
   "mimetype": "text/x-python",
   "name": "python",
   "nbconvert_exporter": "python",
   "pygments_lexer": "ipython3",
   "version": "3.9.16"
  }
 },
 "nbformat": 4,
 "nbformat_minor": 5
}
