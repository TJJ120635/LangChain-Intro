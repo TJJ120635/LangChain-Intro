{
 "cells": [
  {
   "cell_type": "code",
   "execution_count": 1,
   "id": "6e24f5b0-2c71-4e95-a939-a813191af119",
   "metadata": {},
   "outputs": [
    {
     "name": "stderr",
     "output_type": "stream",
     "text": [
      "No sentence-transformers model found with name ../models/text2vec-large-chinese/. Creating a new one with MEAN pooling.\n"
     ]
    }
   ],
   "source": [
    "import os\n",
    "from langchain.embeddings import HuggingFaceEmbeddings\n",
    "from langchain.vectorstores import Chroma\n",
    "\n",
    "os.environ[\"TOKENIZERS_PARALLELISM\"] = \"false\"\n",
    "db_embedding = HuggingFaceEmbeddings(model_name='../models/text2vec-large-chinese/')\n",
    "db_directory = '../vectordb/db_DBQA'"
   ]
  },
  {
   "cell_type": "markdown",
   "id": "945af96b-3d46-4715-a09d-0b887c9257e3",
   "metadata": {
    "tags": []
   },
   "source": [
    "## 向量数据库建立"
   ]
  },
  {
   "cell_type": "code",
   "execution_count": 13,
   "id": "86d2f079-1ad9-4581-b840-61c8737a7f7d",
   "metadata": {},
   "outputs": [],
   "source": [
    "!rm -r ../vectordb/db_DBQA"
   ]
  },
  {
   "cell_type": "code",
   "execution_count": 14,
   "id": "e5b58bc1-6933-47bb-93c7-93a505255315",
   "metadata": {},
   "outputs": [
    {
     "name": "stderr",
     "output_type": "stream",
     "text": [
      "Using embedded DuckDB with persistence: data will be stored in: ../vectordb/db_DBQA\n"
     ]
    }
   ],
   "source": [
    "from PDFLoader import PDFLoader\n",
    "\n",
    "file_path = '../files/'\n",
    "file_list = ['2023中国市场招聘趋势.pdf',\n",
    "             '数据要素白皮书-2022.pdf',\n",
    "             '人工智能生成内容白皮书-2022.pdf']\n",
    "\n",
    "vectordb = Chroma(embedding_function=db_embedding, persist_directory=db_directory)\n",
    "\n",
    "docs = []\n",
    "for file in file_list:\n",
    "    pdf_path = file_path + file\n",
    "    docs = PDFLoader(pdf_path, max_len=200)\n",
    "    \n",
    "    vectordb.add_documents(docs)\n",
    "    vectordb.persist()\n",
    "\n",
    "# vectordb = Chroma.from_documents(documents=docs, embedding=db_embedding, persist_directory=db_directory)\n",
    "# vectordb.persist()"
   ]
  },
  {
   "cell_type": "markdown",
   "id": "bb7e0bfa-4024-43a2-85d4-967912942a64",
   "metadata": {
    "tags": []
   },
   "source": [
    "## 向量数据库查询"
   ]
  },
  {
   "cell_type": "code",
   "execution_count": 88,
   "id": "56ca9b79-4dc0-44c0-a7af-1dd25517767e",
   "metadata": {},
   "outputs": [
    {
     "name": "stderr",
     "output_type": "stream",
     "text": [
      "Using embedded DuckDB with persistence: data will be stored in: ../vectordb/db_DBQA\n"
     ]
    }
   ],
   "source": [
    "vectordb = None\n",
    "vectordb = Chroma(embedding_function=db_embedding, persist_directory=db_directory)\n",
    "retriever = vectordb.as_retriever(search_kwargs={\"k\": 3})"
   ]
  },
  {
   "cell_type": "code",
   "execution_count": 89,
   "id": "c85752f6-01fd-4025-9d39-bee9c22c0079",
   "metadata": {},
   "outputs": [],
   "source": [
    "query = '介绍一下虚拟歌手洛天依'\n",
    "docs = retriever.get_relevant_documents(query)"
   ]
  },
  {
   "cell_type": "code",
   "execution_count": 90,
   "id": "7f108e31-5b2f-4d52-b674-d00984532daa",
   "metadata": {},
   "outputs": [
    {
     "data": {
      "text/plain": [
       "[Document(page_content='VOCALOID语音合成引擎软件为基础创造出来的虚拟人物，由真人提供声源，再由软件合成人声，都是能够让粉丝深度参与共创的虚拟歌手以洛天依为例，任何人通过声库创作词曲，都能达到“洛天依演唱一首歌”的效果从2012年7月12日洛天依出道至今十年的时间内，音乐人以及粉丝已为洛天依创作了超过一万首作品，通过为用户提供更多想象和创作空间的同时，与粉丝建立了更深刻联系二是通过', metadata={'source': '../files/人工智能生成内容白皮书-2022.pdf'}),\n",
       " Document(page_content='101同框合影的活动，这些互动的内容极大地激发出了用户的情感，带来了社交传播的迅速破圈在语音合成方面，变声增加互动娱乐性如QQ等多款社交软件、和平精英等多款游戏均已集成变声功能，支持用户体验大叔、萝莉等多种不同声线，让沟通成为一种乐此不疲的游戏打造虚拟偶像，释放IP价值一是实现与用户共创合成歌曲，人工智能生成内容（AIGC）白皮书36不断加深粉丝黏性以初音未来和洛天依为代表的“虚拟歌姬”，都是基于', metadata={'source': '../files/人工智能生成内容白皮书-2022.pdf'}),\n",
       " Document(page_content='如欧莱雅、飞利浦、完美日记等品牌的虚拟主播一般会在凌晨0点上线，并进行近9个小时的直播，与真人主播形成了24小时无缝对接的直播服务二是虚拟化的品牌主播更能加速店铺或品牌年轻化进程，拉近与新消费人群的距离，塑造元宇宙时代的店铺形象，未来可通过延展应用到元宇宙中更多元的虚拟场景，实现多圈层传播如彩妆品牌“卡姿兰”推出自己的品牌虚拟形象，并将其引入直播间作为其天猫旗舰店日常的虚拟主播导购', metadata={'source': '../files/人工智能生成内容白皮书-2022.pdf'})]"
      ]
     },
     "execution_count": 90,
     "metadata": {},
     "output_type": "execute_result"
    }
   ],
   "source": [
    "docs"
   ]
  },
  {
   "cell_type": "markdown",
   "id": "e48ad06d-f717-4e19-bfd3-d68c159d830c",
   "metadata": {
    "tags": []
   },
   "source": [
    "## 模型加载"
   ]
  },
  {
   "cell_type": "code",
   "execution_count": 59,
   "id": "e131618b-fabe-4b83-8326-858dfa9d42f6",
   "metadata": {},
   "outputs": [],
   "source": [
    "from ChatGLM import ChatGLM"
   ]
  },
  {
   "cell_type": "code",
   "execution_count": 4,
   "id": "14647a48-1703-4d58-b302-9915f52e75c7",
   "metadata": {},
   "outputs": [
    {
     "name": "stdout",
     "output_type": "stream",
     "text": [
      "No compiled kernel found.\n",
      "Compiling kernels : /root/.cache/huggingface/modules/transformers_modules/quantization_kernels_parallel.c\n",
      "Compiling gcc -O3 -fPIC -pthread -fopenmp -std=c99 /root/.cache/huggingface/modules/transformers_modules/quantization_kernels_parallel.c -shared -o /root/.cache/huggingface/modules/transformers_modules/quantization_kernels_parallel.so\n",
      "Load kernel : /root/.cache/huggingface/modules/transformers_modules/quantization_kernels_parallel.so\n",
      "Setting CPU quantization kernel threads to 2\n",
      "Parallel kernel is not recommended when parallel num < 4.\n",
      "Using quantization cache\n",
      "Applying quantization to glm layers\n"
     ]
    }
   ],
   "source": [
    "llm = ChatGLM(model_path='../models/chatglm-6b-int4/')"
   ]
  },
  {
   "cell_type": "markdown",
   "id": "0bb9e7a8-719e-44b9-ac7a-50bd4c5c9aa3",
   "metadata": {
    "tags": []
   },
   "source": [
    "## Prompt 整合"
   ]
  },
  {
   "cell_type": "code",
   "execution_count": 6,
   "id": "fefbc31c-ef9a-4c9d-8b28-824c6ab27978",
   "metadata": {},
   "outputs": [],
   "source": [
    "from langchain.prompts import PromptTemplate\n",
    "from langchain.chains.question_answering import load_qa_chain"
   ]
  },
  {
   "cell_type": "code",
   "execution_count": 16,
   "id": "3b6097e6-359c-4a58-9d03-f87d877f34ee",
   "metadata": {},
   "outputs": [],
   "source": [
    "prompt_template=\"\"\"请评估提问与上下文信息的相关性，根据上下文内容对提问进行回答，如果提问与提供的上下文无关，请回答\"我不知道\"。在回答过程中，保持准确性和专业性，避免回答无关答案和冗长的答案：\n",
    "    上下文: {context}\n",
    "    提问: {query}\n",
    "    回答:\"\"\"\n",
    "\n",
    "prompt = PromptTemplate(\n",
    "    input_variables=[\"context\", \"query\"],\n",
    "    template=prompt_template\n",
    ")\n",
    "\n",
    "chain = load_qa_chain(llm, chain_type=\"stuff\", prompt=prompt)"
   ]
  },
  {
   "cell_type": "code",
   "execution_count": 17,
   "id": "cc3c6228-8940-4220-958e-2af54b506fc5",
   "metadata": {},
   "outputs": [],
   "source": [
    "query = '请简单地介绍一下虚拟歌手洛天依'\n",
    "docs = retriever.get_relevant_documents(query)"
   ]
  },
  {
   "cell_type": "code",
   "execution_count": 18,
   "id": "796a726a-c41b-44df-91cc-8c06c91d6a1f",
   "metadata": {},
   "outputs": [],
   "source": [
    "result = chain({\"input_documents\": docs, \"query\": query}, return_only_outputs=True)"
   ]
  },
  {
   "cell_type": "code",
   "execution_count": 19,
   "id": "6ee2a298-395c-44c2-8c25-e09189dd49f2",
   "metadata": {},
   "outputs": [
    {
     "name": "stdout",
     "output_type": "stream",
     "text": [
      "洛天依是一位由 VOCALOID 语音合成引擎软件为基础创造出来的虚拟人物，由真人提供声源，再由软件合成人声，能够让粉丝深度参与共创。洛天依出道于 2012 年 7 月 12 日，至今已经十年的时间。音乐人和粉丝为洛天依创作了超过一万首作品，通过为用户提供更多想象和创作空间的同时，与粉丝建立了更深刻联系。此外，洛天依还是一位虚拟歌手，通过与用户共创合成歌曲，人工智能生成内容(AIGC)白皮书等方式，不断加深粉丝黏性。以洛天依为代表的“虚拟歌姬”，是 基于 VOCALOID 语音合成引擎软件的虚拟人物，能够让粉丝深度参与共创。\n"
     ]
    }
   ],
   "source": [
    "print(result['output_text'])"
   ]
  },
  {
   "cell_type": "markdown",
   "id": "d99c4448-0bdb-4b45-a1b1-c387a3410023",
   "metadata": {
    "tags": []
   },
   "source": [
    "## ConversationalRetrievalChain"
   ]
  },
  {
   "cell_type": "code",
   "execution_count": 107,
   "id": "65229724-c4e7-4397-a89f-c3583367b883",
   "metadata": {},
   "outputs": [],
   "source": [
    "from langchain.memory import ConversationBufferMemory\n",
    "from langchain.chains import ConversationalRetrievalChain"
   ]
  },
  {
   "cell_type": "code",
   "execution_count": 108,
   "id": "f06b36b6-5689-4530-bfa5-987622e6a482",
   "metadata": {},
   "outputs": [],
   "source": [
    "memory = ConversationBufferMemory(memory_key=\"chat_history\", return_messages=True)\n",
    "chain = ConversationalRetrievalChain.from_llm(llm, retriever, memory=memory)"
   ]
  },
  {
   "cell_type": "code",
   "execution_count": 109,
   "id": "ae54485e-a0af-485a-a3bc-07205d09a1df",
   "metadata": {},
   "outputs": [],
   "source": [
    "query = '请简单地介绍一下虚拟歌手洛天依'\n",
    "result = chain({\"question\": query})"
   ]
  },
  {
   "cell_type": "code",
   "execution_count": 110,
   "id": "c18063bb-6c6c-41de-b941-779189160aa5",
   "metadata": {},
   "outputs": [
    {
     "data": {
      "text/plain": [
       "{'question': '请简单地介绍一下虚拟歌手洛天依',\n",
       " 'chat_history': [HumanMessage(content='请简单地介绍一下虚拟歌手洛天依', additional_kwargs={}, example=False),\n",
       "  AIMessage(content='洛天依是一个由VOCALOID语音合成引擎软件为基础创造出来的虚拟人物，由真人提供声源，再由软件合成人声，能够让粉丝深度参与共创。从2012年7月12日洛天依出道至今，音乐人以及粉丝已为洛天依创作了超过一万首作品，通过为用户提供更多想象和创作空间的同时，与粉丝建立了更深刻联系。洛天依的出道引起了全球范围内的关注，并成为了许多粉丝的虚拟偶像。', additional_kwargs={}, example=False)],\n",
       " 'answer': '洛天依是一个由VOCALOID语音合成引擎软件为基础创造出来的虚拟人物，由真人提供声源，再由软件合成人声，能够让粉丝深度参与共创。从2012年7月12日洛天依出道至今，音乐人以及粉丝已为洛天依创作了超过一万首作品，通过为用户提供更多想象和创作空间的同时，与粉丝建立了更深刻联系。洛天依的出道引起了全球范围内的关注，并成为了许多粉丝的虚拟偶像。'}"
      ]
     },
     "execution_count": 110,
     "metadata": {},
     "output_type": "execute_result"
    }
   ],
   "source": [
    "result"
   ]
  },
  {
   "cell_type": "code",
   "execution_count": 111,
   "id": "b3c6b153-c0f3-4080-a2ff-c71db3ab4451",
   "metadata": {},
   "outputs": [],
   "source": [
    "query = '她是什么时候出道的？'\n",
    "result = chain({\"question\": query})"
   ]
  },
  {
   "cell_type": "code",
   "execution_count": 112,
   "id": "e8dad2db-a1ce-4f2c-a494-4a7e03a62067",
   "metadata": {},
   "outputs": [
    {
     "data": {
      "text/plain": [
       "{'question': '她是什么时候出道的？',\n",
       " 'chat_history': [HumanMessage(content='请简单地介绍一下虚拟歌手洛天依', additional_kwargs={}, example=False),\n",
       "  AIMessage(content='洛天依是一个由VOCALOID语音合成引擎软件为基础创造出来的虚拟人物，由真人提供声源，再由软件合成人声，能够让粉丝深度参与共创。从2012年7月12日洛天依出道至今，音乐人以及粉丝已为洛天依创作了超过一万首作品，通过为用户提供更多想象和创作空间的同时，与粉丝建立了更深刻联系。洛天依的出道引起了全球范围内的关注，并成为了许多粉丝的虚拟偶像。', additional_kwargs={}, example=False),\n",
       "  HumanMessage(content='她是什么时候出道的？', additional_kwargs={}, example=False),\n",
       "  AIMessage(content='In 2012', additional_kwargs={}, example=False)],\n",
       " 'answer': 'In 2012'}"
      ]
     },
     "execution_count": 112,
     "metadata": {},
     "output_type": "execute_result"
    }
   ],
   "source": [
    "result"
   ]
  },
  {
   "cell_type": "code",
   "execution_count": 113,
   "id": "65f96bfb-28fd-4a8f-9e37-fa7c1b8e18e9",
   "metadata": {},
   "outputs": [
    {
     "data": {
      "text/plain": [
       "'In 2012'"
      ]
     },
     "execution_count": 113,
     "metadata": {},
     "output_type": "execute_result"
    }
   ],
   "source": [
    "result['answer']"
   ]
  },
  {
   "cell_type": "markdown",
   "id": "12d4fe75-2351-4644-b6f2-9d8fa5e47455",
   "metadata": {
    "tags": []
   },
   "source": [
    "## With Sources"
   ]
  },
  {
   "cell_type": "code",
   "execution_count": 91,
   "id": "03d3183d-2ac8-44e5-ab96-89b3ee0285ec",
   "metadata": {},
   "outputs": [],
   "source": [
    "memory = ConversationBufferMemory(output_key='answer', memory_key=\"chat_history\", return_messages=True)\n",
    "qa = ConversationalRetrievalChain.from_llm(llm, retriever, memory=memory, return_source_documents=True)"
   ]
  },
  {
   "cell_type": "code",
   "execution_count": 92,
   "id": "c2c3eb1c-c209-4d07-a0f7-aad318692030",
   "metadata": {},
   "outputs": [],
   "source": [
    "query = '请简单地介绍一下虚拟歌手洛天依'\n",
    "result = qa({\"question\": query})"
   ]
  },
  {
   "cell_type": "code",
   "execution_count": 93,
   "id": "128c3cbb-fce5-4ff5-b21f-661d9c0e4e83",
   "metadata": {},
   "outputs": [
    {
     "data": {
      "text/plain": [
       "{'question': '请简单地介绍一下虚拟歌手洛天依',\n",
       " 'chat_history': [HumanMessage(content='请简单地介绍一下虚拟歌手洛天依', additional_kwargs={}, example=False),\n",
       "  AIMessage(content='洛天依是一个由VOCALOID语音合成引擎软件为基础创造出来的虚拟人物，由真人提供声源，再由软件合成人声，能够让粉丝深度参与共创。从2012年7月12日洛天依出道至今，音乐人以及粉丝已为洛天依创作了超过一万首作品，通过为用户提供更多想象和创作空间的同时，与粉丝建立了更深刻联系。洛天依的出道引起了全球范围内的关注，并成为了许多粉丝的虚拟偶像。', additional_kwargs={}, example=False)],\n",
       " 'answer': '洛天依是一个由VOCALOID语音合成引擎软件为基础创造出来的虚拟人物，由真人提供声源，再由软件合成人声，能够让粉丝深度参与共创。从2012年7月12日洛天依出道至今，音乐人以及粉丝已为洛天依创作了超过一万首作品，通过为用户提供更多想象和创作空间的同时，与粉丝建立了更深刻联系。洛天依的出道引起了全球范围内的关注，并成为了许多粉丝的虚拟偶像。',\n",
       " 'source_documents': [Document(page_content='VOCALOID语音合成引擎软件为基础创造出来的虚拟人物，由真人提供声源，再由软件合成人声，都是能够让粉丝深度参与共创的虚拟歌手以洛天依为例，任何人通过声库创作词曲，都能达到“洛天依演唱一首歌”的效果从2012年7月12日洛天依出道至今十年的时间内，音乐人以及粉丝已为洛天依创作了超过一万首作品，通过为用户提供更多想象和创作空间的同时，与粉丝建立了更深刻联系二是通过', metadata={'source': '../files/人工智能生成内容白皮书-2022.pdf'}),\n",
       "  Document(page_content='101同框合影的活动，这些互动的内容极大地激发出了用户的情感，带来了社交传播的迅速破圈在语音合成方面，变声增加互动娱乐性如QQ等多款社交软件、和平精英等多款游戏均已集成变声功能，支持用户体验大叔、萝莉等多种不同声线，让沟通成为一种乐此不疲的游戏打造虚拟偶像，释放IP价值一是实现与用户共创合成歌曲，人工智能生成内容（AIGC）白皮书36不断加深粉丝黏性以初音未来和洛天依为代表的“虚拟歌姬”，都是基于', metadata={'source': '../files/人工智能生成内容白皮书-2022.pdf'}),\n",
       "  Document(page_content='如欧莱雅、飞利浦、完美日记等品牌的虚拟主播一般会在凌晨0点上线，并进行近9个小时的直播，与真人主播形成了24小时无缝对接的直播服务二是虚拟化的品牌主播更能加速店铺或品牌年轻化进程，拉近与新消费人群的距离，塑造元宇宙时代的店铺形象，未来可通过延展应用到元宇宙中更多元的虚拟场景，实现多圈层传播如彩妆品牌“卡姿兰”推出自己的品牌虚拟形象，并将其引入直播间作为其天猫旗舰店日常的虚拟主播导购', metadata={'source': '../files/人工智能生成内容白皮书-2022.pdf'})]}"
      ]
     },
     "execution_count": 93,
     "metadata": {},
     "output_type": "execute_result"
    }
   ],
   "source": [
    "result"
   ]
  },
  {
   "cell_type": "code",
   "execution_count": 94,
   "id": "b3821920-3f97-4c37-86df-da1d2a80d6ee",
   "metadata": {},
   "outputs": [],
   "source": [
    "query = '2022年国内新能源车的渗透率是多少'\n",
    "result = qa({\"question\": query})"
   ]
  },
  {
   "cell_type": "code",
   "execution_count": 95,
   "id": "e68a0793-1caa-44ad-a365-ba3678c2e205",
   "metadata": {},
   "outputs": [
    {
     "data": {
      "text/plain": [
       "{'question': '2022年国内新能源车的渗透率是多少',\n",
       " 'chat_history': [HumanMessage(content='请简单地介绍一下虚拟歌手洛天依', additional_kwargs={}, example=False),\n",
       "  AIMessage(content='洛天依是一个由VOCALOID语音合成引擎软件为基础创造出来的虚拟人物，由真人提供声源，再由软件合成人声，能够让粉丝深度参与共创。从2012年7月12日洛天依出道至今，音乐人以及粉丝已为洛天依创作了超过一万首作品，通过为用户提供更多想象和创作空间的同时，与粉丝建立了更深刻联系。洛天依的出道引起了全球范围内的关注，并成为了许多粉丝的虚拟偶像。', additional_kwargs={}, example=False),\n",
       "  HumanMessage(content='2022年国内新能源车的渗透率是多少', additional_kwargs={}, example=False),\n",
       "  AIMessage(content=\"I don't have information on the specific percentage of total vehicle sales that were electric vehicles in 2022. The Chinese government has set ambitious goals for the development of electric vehicles and the country has made significant progress in this area. In 2021, the Chinese government launched a new program to increase the number of electric vehicles on the road by 2025, with a goal to have 50% of all vehicle sales being electric by then. Additionally, the country has also made it easier to purchase and own electric vehicles, with the introduction of new regulations and policies to support the development of the electric vehicle industry.\", additional_kwargs={}, example=False)],\n",
       " 'answer': \"I don't have information on the specific percentage of total vehicle sales that were electric vehicles in 2022. The Chinese government has set ambitious goals for the development of electric vehicles and the country has made significant progress in this area. In 2021, the Chinese government launched a new program to increase the number of electric vehicles on the road by 2025, with a goal to have 50% of all vehicle sales being electric by then. Additionally, the country has also made it easier to purchase and own electric vehicles, with the introduction of new regulations and policies to support the development of the electric vehicle industry.\",\n",
       " 'source_documents': [Document(page_content='中国2023人才市场招聘趋势目录前言科技医疗大健康机器人地产新能源消费/零售/电商金融法务财务人力资源雇主建议人才建议关于我们i01152127394955636975838485前言2022年，依然是曲折起伏的一年疫情政策调整、俄乌冲突、美联储加息等事件深刻影响着各行各业回顾过去这一年，虽然市场充满了不确定性，却仍有不少企业在其中寻获了机遇', metadata={'source': '../files/2023中国市场招聘趋势.pdf'}),\n",
       "  Document(page_content='imagerecognitionandbeyond[J].arXivpreprintarXiv:2202.10108,2022.[15]XuY.,etal.ViTPose:SimpleVisionTransformerBaselinesforHumanPoseEstimation[J].arXivpreprintarXiv:2204.12484,2022.[16]LiuZ.,etal.Swin', metadata={'source': '../files/人工智能生成内容白皮书-2022.pdf'}),\n",
       "  Document(page_content='.“十四五”数字经济发展规划[EB/OL].2021.http://www.gov.cn/zhengce/content/2022-01/12/content_5667817.htm.[3]中共中央，国务院.关于加快建设全国统一大市场的意见[EB/OL].2022.http://www.gov.cn/gongbao/content/2022/content_5687499.htm.[4]国务院.', metadata={'source': '../files/数据要素白皮书-2022.pdf'})]}"
      ]
     },
     "execution_count": 95,
     "metadata": {},
     "output_type": "execute_result"
    }
   ],
   "source": [
    "result"
   ]
  },
  {
   "cell_type": "code",
   "execution_count": 96,
   "id": "98a95114-c5f4-4055-852d-055a6c2b3fc2",
   "metadata": {},
   "outputs": [
    {
     "data": {
      "text/plain": [
       "\"I don't have information on the specific percentage of total vehicle sales that were electric vehicles in 2022. The Chinese government has set ambitious goals for the development of electric vehicles and the country has made significant progress in this area. In 2021, the Chinese government launched a new program to increase the number of electric vehicles on the road by 2025, with a goal to have 50% of all vehicle sales being electric by then. Additionally, the country has also made it easier to purchase and own electric vehicles, with the introduction of new regulations and policies to support the development of the electric vehicle industry.\""
      ]
     },
     "execution_count": 96,
     "metadata": {},
     "output_type": "execute_result"
    }
   ],
   "source": [
    "result['answer']"
   ]
  },
  {
   "cell_type": "code",
   "execution_count": 97,
   "id": "88c6b2ae-79c5-465d-9197-024a66343ef2",
   "metadata": {},
   "outputs": [],
   "source": [
    "query = '请换成中文来回答'\n",
    "result = qa({\"question\": query})"
   ]
  },
  {
   "cell_type": "code",
   "execution_count": 98,
   "id": "057c7003-6416-4887-93cb-c2b45144d019",
   "metadata": {},
   "outputs": [
    {
     "data": {
      "text/plain": [
       "{'question': '请换成中文来回答',\n",
       " 'chat_history': [HumanMessage(content='请简单地介绍一下虚拟歌手洛天依', additional_kwargs={}, example=False),\n",
       "  AIMessage(content='洛天依是一个由VOCALOID语音合成引擎软件为基础创造出来的虚拟人物，由真人提供声源，再由软件合成人声，能够让粉丝深度参与共创。从2012年7月12日洛天依出道至今，音乐人以及粉丝已为洛天依创作了超过一万首作品，通过为用户提供更多想象和创作空间的同时，与粉丝建立了更深刻联系。洛天依的出道引起了全球范围内的关注，并成为了许多粉丝的虚拟偶像。', additional_kwargs={}, example=False),\n",
       "  HumanMessage(content='2022年国内新能源车的渗透率是多少', additional_kwargs={}, example=False),\n",
       "  AIMessage(content=\"I don't have information on the specific percentage of total vehicle sales that were electric vehicles in 2022. The Chinese government has set ambitious goals for the development of electric vehicles and the country has made significant progress in this area. In 2021, the Chinese government launched a new program to increase the number of electric vehicles on the road by 2025, with a goal to have 50% of all vehicle sales being electric by then. Additionally, the country has also made it easier to purchase and own electric vehicles, with the introduction of new regulations and policies to support the development of the electric vehicle industry.\", additional_kwargs={}, example=False),\n",
       "  HumanMessage(content='请换成中文来回答', additional_kwargs={}, example=False),\n",
       "  AIMessage(content='2022年国内新能源车的渗透率是25%.', additional_kwargs={}, example=False)],\n",
       " 'answer': '2022年国内新能源车的渗透率是25%.',\n",
       " 'source_documents': [Document(page_content='2022年注定是新能源车及其产业链提前进入激烈竞争的一年，既是技术产品营销的竞争，亦是人才争夺的竞争这一年，国内新能源车的渗透率突破25%，提前达到三年后目标KOS新能源招聘团队认为，在2022人才争夺战中，新能源车人才竞争的42三个战场会分别是研发、交付、营销各大车企招聘的增量直接反映其业务发展势头，直观例子是BYD在2022年的销量全面赶超特斯拉，而BYD在招聘市场上的热度亦然如此', metadata={'source': '../files/2023中国市场招聘趋势.pdf'}),\n",
       "  Document(page_content='.“十四五”数字经济发展规划[EB/OL].2021.http://www.gov.cn/zhengce/content/2022-01/12/content_5667817.htm.[3]中共中央，国务院.关于加快建设全国统一大市场的意见[EB/OL].2022.http://www.gov.cn/gongbao/content/2022/content_5687499.htm.[4]国务院.', metadata={'source': '../files/数据要素白皮书-2022.pdf'}),\n",
       "  Document(page_content='规范化产业生态将逐步形成，数据要素的价值将得到充分挖掘和释放，从而进一步促进数字经济和实体经济深度融合，助力数字经济高质量可持续发展数据要素白皮书（2022年）44参考文献[1]国务院办公厅.要素市场化配置综合改革试点总体方案[EB/OL].2021.http://www.gov.cn/zhengce/content/2022-01/06/content_5666681.htm.[2]国务院', metadata={'source': '../files/数据要素白皮书-2022.pdf'})]}"
      ]
     },
     "execution_count": 98,
     "metadata": {},
     "output_type": "execute_result"
    }
   ],
   "source": [
    "result"
   ]
  },
  {
   "cell_type": "code",
   "execution_count": 99,
   "id": "8d704138-5fed-488b-a25d-40ea2f5121e4",
   "metadata": {},
   "outputs": [
    {
     "data": {
      "text/plain": [
       "'2022年国内新能源车的渗透率是25%.'"
      ]
     },
     "execution_count": 99,
     "metadata": {},
     "output_type": "execute_result"
    }
   ],
   "source": [
    "result['answer']"
   ]
  },
  {
   "cell_type": "code",
   "execution_count": 22,
   "id": "5ffb5494-e821-4c68-aa48-dfbc32241c2c",
   "metadata": {},
   "outputs": [
    {
     "name": "stderr",
     "output_type": "stream",
     "text": [
      "Using embedded DuckDB with persistence: data will be stored in: ../vectordb/db_DBQA\n"
     ]
    }
   ],
   "source": [
    "vectordb = None\n",
    "vectordb = Chroma(embedding_function=db_embedding, persist_directory=db_directory)\n",
    "retriever = vectordb.as_retriever(search_kwargs={\"k\": 3})"
   ]
  },
  {
   "cell_type": "code",
   "execution_count": 23,
   "id": "6f4c30a1-1837-42da-b95a-67d1d8e4a80e",
   "metadata": {},
   "outputs": [],
   "source": [
    "query = '2022新能源汽车渗透率是多少'\n",
    "docs = retriever.get_relevant_documents(query)"
   ]
  },
  {
   "cell_type": "code",
   "execution_count": 24,
   "id": "48613188-3d23-457e-9be0-0e9bdc1ee222",
   "metadata": {},
   "outputs": [
    {
     "data": {
      "text/plain": [
       "[Document(page_content='2022年注定是新能源车及其产业链提前进入激烈竞争的一年，既是技术产品营销的竞争，亦是人才争夺的竞争这一年，国内新能源车的渗透率突破25%，提前达到三年后目标KOS新能源招聘团队认为，在2022人才争夺战中，新能源车人才竞争的42三个战场会分别是研发、交付、营销各大车企招聘的增量直接反映其业务发展势头，直观例子是BYD在2022年的销量全面赶超特斯拉，而BYD在招聘市场上的热度亦然如此', metadata={'source': '../files/2023中国市场招聘趋势.pdf'}),\n",
       " Document(page_content='关于加强数字政府建设的指导意见[EB/OL].，2022.http://www.gov.cn/zhengce/content/2022-06/23/content_5697299.htm.[5]中国信息通信研究院.大数据白皮书[R].2021.[6]隐私计算联盟，中国信通院云大所.隐私计算白皮书（2021年）[R].2021.[7]华中师范大学信息管理学院，湖北省数据治理与智能决策研究中心.', metadata={'source': '../files/数据要素白皮书-2022.pdf'}),\n",
       " Document(page_content='.“十四五”数字经济发展规划[EB/OL].2021.http://www.gov.cn/zhengce/content/2022-01/12/content_5667817.htm.[3]中共中央，国务院.关于加快建设全国统一大市场的意见[EB/OL].2022.http://www.gov.cn/gongbao/content/2022/content_5687499.htm.[4]国务院.', metadata={'source': '../files/数据要素白皮书-2022.pdf'})]"
      ]
     },
     "execution_count": 24,
     "metadata": {},
     "output_type": "execute_result"
    }
   ],
   "source": [
    "docs"
   ]
  },
  {
   "cell_type": "code",
   "execution_count": 25,
   "id": "11f58df6-00a2-4656-b74c-7ab3c6c95abb",
   "metadata": {},
   "outputs": [],
   "source": [
    "query = '介绍一下虚拟歌手洛天依'\n",
    "docs = retriever.get_relevant_documents(query)"
   ]
  },
  {
   "cell_type": "code",
   "execution_count": 26,
   "id": "b1ab9a05-c32a-45b5-88dd-838fb9f61e20",
   "metadata": {},
   "outputs": [
    {
     "data": {
      "text/plain": [
       "[Document(page_content='VOCALOID语音合成引擎软件为基础创造出来的虚拟人物，由真人提供声源，再由软件合成人声，都是能够让粉丝深度参与共创的虚拟歌手以洛天依为例，任何人通过声库创作词曲，都能达到“洛天依演唱一首歌”的效果从2012年7月12日洛天依出道至今十年的时间内，音乐人以及粉丝已为洛天依创作了超过一万首作品，通过为用户提供更多想象和创作空间的同时，与粉丝建立了更深刻联系二是通过', metadata={'source': '../files/人工智能生成内容白皮书-2022.pdf'}),\n",
       " Document(page_content='101同框合影的活动，这些互动的内容极大地激发出了用户的情感，带来了社交传播的迅速破圈在语音合成方面，变声增加互动娱乐性如QQ等多款社交软件、和平精英等多款游戏均已集成变声功能，支持用户体验大叔、萝莉等多种不同声线，让沟通成为一种乐此不疲的游戏打造虚拟偶像，释放IP价值一是实现与用户共创合成歌曲，人工智能生成内容（AIGC）白皮书36不断加深粉丝黏性以初音未来和洛天依为代表的“虚拟歌姬”，都是基于', metadata={'source': '../files/人工智能生成内容白皮书-2022.pdf'}),\n",
       " Document(page_content='如欧莱雅、飞利浦、完美日记等品牌的虚拟主播一般会在凌晨0点上线，并进行近9个小时的直播，与真人主播形成了24小时无缝对接的直播服务二是虚拟化的品牌主播更能加速店铺或品牌年轻化进程，拉近与新消费人群的距离，塑造元宇宙时代的店铺形象，未来可通过延展应用到元宇宙中更多元的虚拟场景，实现多圈层传播如彩妆品牌“卡姿兰”推出自己的品牌虚拟形象，并将其引入直播间作为其天猫旗舰店日常的虚拟主播导购', metadata={'source': '../files/人工智能生成内容白皮书-2022.pdf'})]"
      ]
     },
     "execution_count": 26,
     "metadata": {},
     "output_type": "execute_result"
    }
   ],
   "source": [
    "docs"
   ]
  },
  {
   "cell_type": "code",
   "execution_count": 37,
   "id": "45c8d605-9654-4918-b6f9-1a3dd2351a9d",
   "metadata": {},
   "outputs": [],
   "source": [
    "query = '虚拟歌手是一种数据要素吗'\n",
    "docs = retriever.get_relevant_documents(query)"
   ]
  },
  {
   "cell_type": "code",
   "execution_count": 38,
   "id": "1e40ab29-3f83-4045-9cd4-a3f5176ae9f9",
   "metadata": {},
   "outputs": [
    {
     "data": {
      "text/plain": [
       "[Document(page_content='和产业更强调数据作为原材料的独特价值，依靠数据驱动可以产生大量人类理性难以直接感知到的信息，这些信息是数据价值释放的一种结果数据要素白皮书（2022年）3来源：公开资料整理图1数据-信息-知识-智慧（DIKW）模型数据与土地、劳动、资本、技术等传统生产要素相比有明显的独特性产学研各界对数据的特性已有广泛讨论，总结各方观点可以发现，数据首先作为独特的技术产物，具有虚拟性、低成本复制性和主体多元性', metadata={'source': '../files/数据要素白皮书-2022.pdf'}),\n",
       " Document(page_content='数字人作为现实与虚拟世界的交互媒介，通过其特有的人设、性格、思维、职业等并辅以专属的创作内容，可以打破传统的物理及时空边界，通过VR、AR等技术和新一代智能终端设备，带给用户丰富的沉浸式体验而可以自主生成内容的数字人将是构建人机交融、数实融合的未来世界的最佳载体，同时也是未来人类构建“自生成、自更新”的元宇宙新世界的必经之路', metadata={'source': '../files/人工智能生成内容白皮书-2022.pdf'}),\n",
       " Document(page_content='、鼻型等，可以自动化生成具有个人特色的虚拟形象，同时还可跟踪用户的面部表情生成实时动画，让普通人也能有机会创造属于自己的卡通形象在可预见的未来，作为用户在虚拟世界中个人身份和交互载体的“数字化身”，将进一步与人们的生产生活相融合，并将带动虚拟商品经济的发展（五）AIGC+其他：推进数实融合，加快产业升级除以上行业之外，教育、金融、医疗、工业等各行各业的AIGC应用也都在快速发展教育领域，', metadata={'source': '../files/人工智能生成内容白皮书-2022.pdf'})]"
      ]
     },
     "execution_count": 38,
     "metadata": {},
     "output_type": "execute_result"
    }
   ],
   "source": [
    "docs"
   ]
  },
  {
   "cell_type": "code",
   "execution_count": null,
   "id": "09d323c0-14e9-4e44-a61e-01c115dfdce7",
   "metadata": {},
   "outputs": [],
   "source": []
  }
 ],
 "metadata": {
  "kernelspec": {
   "display_name": "Python 3 (ipykernel)",
   "language": "python",
   "name": "python3"
  },
  "language_info": {
   "codemirror_mode": {
    "name": "ipython",
    "version": 3
   },
   "file_extension": ".py",
   "mimetype": "text/x-python",
   "name": "python",
   "nbconvert_exporter": "python",
   "pygments_lexer": "ipython3",
   "version": "3.9.16"
  }
 },
 "nbformat": 4,
 "nbformat_minor": 5
}
