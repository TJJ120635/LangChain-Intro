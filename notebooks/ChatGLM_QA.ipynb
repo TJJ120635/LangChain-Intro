{
 "cells": [
  {
   "cell_type": "markdown",
   "id": "9ee07d7b-cc63-43ae-a90b-037fcd5fc85e",
   "metadata": {},
   "source": [
    "## 载入 PDF"
   ]
  },
  {
   "cell_type": "code",
   "execution_count": 1,
   "id": "a07c3e80-0ac4-42d7-a765-4a4a3e80574f",
   "metadata": {},
   "outputs": [],
   "source": [
    "import PyPDF2"
   ]
  },
  {
   "cell_type": "code",
   "execution_count": 2,
   "id": "1f555146-3c63-4a9c-a7f2-0979d9efb129",
   "metadata": {},
   "outputs": [],
   "source": [
    "pdf_path = 'KOS：2023中国市场招聘趋势.pdf'\n",
    "pdf_file = open(pdf_path, 'rb')\n",
    "pdf_reader = PyPDF2.PdfReader(pdf_file)"
   ]
  },
  {
   "cell_type": "code",
   "execution_count": 3,
   "id": "063508da-ea4b-4c4d-b3c5-42967a2821a9",
   "metadata": {},
   "outputs": [
    {
     "data": {
      "text/plain": [
       "'前言\\n2022年，依然是曲折起伏的一年。疫情政策调整、俄乌冲\\n突、美联储加息等事件深刻影响着各行各业。\\n回顾过去这一年，虽然市场充满了不确定性，却仍有不少\\n企业在其中寻获了机遇。我们看到科技、消费品、电商等\\n行业中，有不少企业开始将目光投向海外，扬帆起航，大\\n力发展出海业务；机器人行业在智能技术的加持下，进入\\n到了新的转型期，迎来跨跃式发展；新能源行业在国家政\\n策的鼓励下，增长强劲，进入高质量增长阶段。\\n几家欢喜，几家忧愁。也有行业在过去这一年中面临\\n了前所未有的挑战。地产行业受疫情、政策调控等影\\n响，发生了结构性变化；消费品行业受封控等影响，\\n在逆境中求生，寻求新的突破机会点；医疗大健康行\\n业在后疫情时代，行业泡沫被戳破，企业亟需找到创\\n新破局之路；互联网行业中各个大厂纷纷开始优化结\\n构，以守为攻。\\n进入到2023年，国内疫情防控措施逐渐放松，\\n并进入新阶段，这意味着国内消费将强劲反\\n弹。同时，国家也在持续推进高水平对外开\\n放，吸引外资。多重利好之下，各行业会有怎\\n样的趋势？又将如何影响人才招聘市场？\\nKOS高奥士国际特推出《2023中国人\\n才招聘市场趋势》，分科技、医疗大\\n健康、机器人、地产、新能源、消\\n费/零售/电商、金融、法务、财务、\\n人力资源十大板块总结2022年市场情\\n况，展望2023年行业趋势，并根据市\\n场动向为雇主品牌建设和人才求职方\\n向提供了相关参考建议。\\ni'"
      ]
     },
     "execution_count": 3,
     "metadata": {},
     "output_type": "execute_result"
    }
   ],
   "source": [
    "pdf_reader.pages[2].extract_text()"
   ]
  },
  {
   "cell_type": "code",
   "execution_count": 4,
   "id": "53e9d8b9-05a2-4b0e-8f85-1c6101e636cd",
   "metadata": {},
   "outputs": [],
   "source": [
    "pdf_content = ''\n",
    "for num in range(len(pdf_reader.pages)):\n",
    "    page = pdf_reader.pages[num]\n",
    "    pdf_content += page.extract_text()"
   ]
  },
  {
   "cell_type": "code",
   "execution_count": 5,
   "id": "95f40599-32a8-4ae8-8237-3cdb86cb8d51",
   "metadata": {},
   "outputs": [
    {
     "data": {
      "text/plain": [
       "34400"
      ]
     },
     "execution_count": 5,
     "metadata": {},
     "output_type": "execute_result"
    }
   ],
   "source": [
    "len(pdf_content)"
   ]
  },
  {
   "cell_type": "markdown",
   "id": "12e00a40-c273-4952-a15a-a4ce9976434a",
   "metadata": {},
   "source": [
    "## 文本清洗"
   ]
  },
  {
   "cell_type": "code",
   "execution_count": 6,
   "id": "d6976e2f-6db7-4e3a-b07d-8fb6379bd0c9",
   "metadata": {},
   "outputs": [],
   "source": [
    "import re"
   ]
  },
  {
   "cell_type": "code",
   "execution_count": 7,
   "id": "b623e96e-fa9c-487d-bf83-52e67e33eff8",
   "metadata": {},
   "outputs": [],
   "source": [
    "pdf_content = pdf_content.replace('\\n', '') \n",
    "pdf_content = pdf_content.replace('\\n\\n', '') \n",
    "pdf_content = re.sub(r'\\s+', ' ', pdf_content)"
   ]
  },
  {
   "cell_type": "code",
   "execution_count": 8,
   "id": "534e1046-3ffc-4ed9-9906-f82c6f4fb881",
   "metadata": {},
   "outputs": [
    {
     "data": {
      "text/plain": [
       "'中国 2023人才市场招聘趋势目录前言科技医疗大健康机器人地产新能源消费/零售/电商金融法务财务人力资源雇主建议人才建议关于我们i 01 152127394955636975838485前言2022年，依然是曲折起伏的一年。疫情政策调整、俄乌冲突、美联储加息等事件深刻影响着各行各业。回顾过去这一年，虽然市场充满了不确定性，却仍有不少企业在其中寻获了机遇。我们看到科技、消费品、电商等行业中，有不少企业开始将目光投向海外，扬帆起航，大力发展出海业务；机器人行业在智能技术的加持下，进入到了新的转型期，迎来跨跃式发展；新能源行业在国家政策的鼓励下，增长强劲，进入高质量增长阶段。几家欢喜，几家忧愁。也有行业在过去这一年中面临了前所未有的挑战。地产行业受疫情、政策调控等影响，发生了结构性变化；消费品行业受封控等影响，在逆境中求生，寻求新的突破机会点；医疗大健康行业在后疫情时代，行业泡沫被戳破，企业亟需找到创新破局之路；互联网行业中各个大厂纷纷开始优化结构，以守为攻。进入到2023年，国内疫情防控措施逐渐放松，并进入新阶段，这意味着国内消费将强劲反弹。同时，国家也在持续推进高水平对外开放，吸引外资。'"
      ]
     },
     "execution_count": 8,
     "metadata": {},
     "output_type": "execute_result"
    }
   ],
   "source": [
    "pdf_content[:500]"
   ]
  },
  {
   "cell_type": "code",
   "execution_count": 9,
   "id": "1884211f-d4fd-4566-991b-f71ce43bd665",
   "metadata": {},
   "outputs": [],
   "source": [
    "pdf_sentences_mark = re.split('(；|。|！|\\!|\\.|？|\\?)', pdf_content) \n",
    "\n",
    "pdf_sentences = []\n",
    "for i in range(int(len(pdf_sentences_mark)/2)):\n",
    "    sent = pdf_sentences_mark[2*i] + pdf_sentences_mark[2*i+1]\n",
    "    pdf_sentences.append(sent)\n",
    "if len(pdf_sentences_mark) % 2 == 1:\n",
    "    pdf_sentences.append(pdf_sentences_mark[len(pdf_sentences_mark)-1])"
   ]
  },
  {
   "cell_type": "code",
   "execution_count": 10,
   "id": "01e364ce-6227-4a51-829b-2fbffcc7473f",
   "metadata": {},
   "outputs": [
    {
     "data": {
      "text/plain": [
       "['中国 2023人才市场招聘趋势目录前言科技医疗大健康机器人地产新能源消费/零售/电商金融法务财务人力资源雇主建议人才建议关于我们i 01 152127394955636975838485前言2022年，依然是曲折起伏的一年。',\n",
       " '疫情政策调整、俄乌冲突、美联储加息等事件深刻影响着各行各业。',\n",
       " '回顾过去这一年，虽然市场充满了不确定性，却仍有不少企业在其中寻获了机遇。',\n",
       " '我们看到科技、消费品、电商等行业中，有不少企业开始将目光投向海外，扬帆起航，大力发展出海业务；',\n",
       " '机器人行业在智能技术的加持下，进入到了新的转型期，迎来跨跃式发展；',\n",
       " '新能源行业在国家政策的鼓励下，增长强劲，进入高质量增长阶段。',\n",
       " '几家欢喜，几家忧愁。',\n",
       " '也有行业在过去这一年中面临了前所未有的挑战。',\n",
       " '地产行业受疫情、政策调控等影响，发生了结构性变化；',\n",
       " '消费品行业受封控等影响，在逆境中求生，寻求新的突破机会点；']"
      ]
     },
     "execution_count": 10,
     "metadata": {},
     "output_type": "execute_result"
    }
   ],
   "source": [
    "pdf_sentences[:10]"
   ]
  },
  {
   "cell_type": "code",
   "execution_count": 11,
   "id": "6a13c1b4-c0d1-4478-9437-8e8fe95c0bbc",
   "metadata": {},
   "outputs": [],
   "source": [
    "paragraphs = []\n",
    "max_len = 300\n",
    "current_len = 0\n",
    "current_para = \"\"\n",
    "\n",
    "for sent in pdf_sentences:\n",
    "    sent_len = len(sent)\n",
    "    if current_len + sent_len <= max_len:\n",
    "        current_para += sent\n",
    "        current_len += sent_len\n",
    "    else:\n",
    "        paragraphs.append(current_para.strip())\n",
    "        current_para = sent\n",
    "        current_len = sent_len\n",
    "\n",
    "paragraphs.append(current_para.strip())"
   ]
  },
  {
   "cell_type": "code",
   "execution_count": 12,
   "id": "2bb0cf2d-d25c-41c5-97c9-c4a99773c87c",
   "metadata": {},
   "outputs": [
    {
     "data": {
      "text/plain": [
       "['中国 2023人才市场招聘趋势目录前言科技医疗大健康机器人地产新能源消费/零售/电商金融法务财务人力资源雇主建议人才建议关于我们i 01 152127394955636975838485前言2022年，依然是曲折起伏的一年。疫情政策调整、俄乌冲突、美联储加息等事件深刻影响着各行各业。回顾过去这一年，虽然市场充满了不确定性，却仍有不少企业在其中寻获了机遇。我们看到科技、消费品、电商等行业中，有不少企业开始将目光投向海外，扬帆起航，大力发展出海业务；机器人行业在智能技术的加持下，进入到了新的转型期，迎来跨跃式发展；新能源行业在国家政策的鼓励下，增长强劲，进入高质量增长阶段。几家欢喜，几家忧愁。',\n",
       " '也有行业在过去这一年中面临了前所未有的挑战。地产行业受疫情、政策调控等影响，发生了结构性变化；消费品行业受封控等影响，在逆境中求生，寻求新的突破机会点；医疗大健康行业在后疫情时代，行业泡沫被戳破，企业亟需找到创新破局之路；互联网行业中各个大厂纷纷开始优化结构，以守为攻。进入到2023年，国内疫情防控措施逐渐放松，并进入新阶段，这意味着国内消费将强劲反弹。同时，国家也在持续推进高水平对外开放，吸引外资。多重利好之下，各行业会有怎样的趋势？又将如何影响人才招聘市场？']"
      ]
     },
     "execution_count": 12,
     "metadata": {},
     "output_type": "execute_result"
    }
   ],
   "source": [
    "paragraphs[:2]"
   ]
  },
  {
   "cell_type": "markdown",
   "id": "1ccdddec-6afe-4aae-a809-51422df2c203",
   "metadata": {},
   "source": [
    "## 文档持久化"
   ]
  },
  {
   "cell_type": "code",
   "execution_count": 13,
   "id": "0c650f0a-d22d-42f8-8ea7-731a0f9ed326",
   "metadata": {},
   "outputs": [],
   "source": [
    "from langchain.docstore.document import Document"
   ]
  },
  {
   "cell_type": "code",
   "execution_count": 14,
   "id": "b18f26ce-bd2a-44ac-a6c8-2288b64015b3",
   "metadata": {},
   "outputs": [],
   "source": [
    "documents = []\n",
    "metadata = {\"source\": pdf_path}\n",
    "for para in paragraphs:\n",
    "    new_doc = Document(page_content=para, metadata=metadata)\n",
    "    documents.append(new_doc)"
   ]
  },
  {
   "cell_type": "code",
   "execution_count": 15,
   "id": "bdaef5ee-344a-4def-ba09-aa95c8d5cd95",
   "metadata": {},
   "outputs": [
    {
     "data": {
      "text/plain": [
       "Document(page_content='中国 2023人才市场招聘趋势目录前言科技医疗大健康机器人地产新能源消费/零售/电商金融法务财务人力资源雇主建议人才建议关于我们i 01 152127394955636975838485前言2022年，依然是曲折起伏的一年。疫情政策调整、俄乌冲突、美联储加息等事件深刻影响着各行各业。回顾过去这一年，虽然市场充满了不确定性，却仍有不少企业在其中寻获了机遇。我们看到科技、消费品、电商等行业中，有不少企业开始将目光投向海外，扬帆起航，大力发展出海业务；机器人行业在智能技术的加持下，进入到了新的转型期，迎来跨跃式发展；新能源行业在国家政策的鼓励下，增长强劲，进入高质量增长阶段。几家欢喜，几家忧愁。', metadata={'source': 'KOS：2023中国市场招聘趋势.pdf'})"
      ]
     },
     "execution_count": 15,
     "metadata": {},
     "output_type": "execute_result"
    }
   ],
   "source": [
    "documents[0]"
   ]
  },
  {
   "cell_type": "code",
   "execution_count": 16,
   "id": "b5b4d629-86bf-4b57-ad3a-a33373706056",
   "metadata": {},
   "outputs": [],
   "source": [
    "from langchain.embeddings import HuggingFaceEmbeddings\n",
    "from langchain.vectorstores import Chroma"
   ]
  },
  {
   "cell_type": "code",
   "execution_count": 17,
   "id": "9e08be96-02a5-448c-85d6-6a34f2e1c903",
   "metadata": {},
   "outputs": [
    {
     "name": "stderr",
     "output_type": "stream",
     "text": [
      "/root/anaconda3/envs/chat/lib/python3.9/site-packages/tqdm/auto.py:21: TqdmWarning: IProgress not found. Please update jupyter and ipywidgets. See https://ipywidgets.readthedocs.io/en/stable/user_install.html\n",
      "  from .autonotebook import tqdm as notebook_tqdm\n",
      "No sentence-transformers model found with name text2vec-base-chinese. Creating a new one with MEAN pooling.\n"
     ]
    }
   ],
   "source": [
    "embedding = HuggingFaceEmbeddings(model_name='text2vec-base-chinese')"
   ]
  },
  {
   "cell_type": "code",
   "execution_count": 38,
   "id": "1bf6a0fb-d977-4aaf-9fde-8c7120c163fd",
   "metadata": {},
   "outputs": [
    {
     "name": "stderr",
     "output_type": "stream",
     "text": [
      "Using embedded DuckDB with persistence: data will be stored in: db_huggingface\n"
     ]
    }
   ],
   "source": [
    "persist_directory = 'db_huggingface'\n",
    "vectordb = Chroma.from_documents(documents=documents, embedding=embedding, persist_directory=persist_directory)\n",
    "vectordb.persist()"
   ]
  },
  {
   "cell_type": "code",
   "execution_count": 19,
   "id": "52a73993-db38-4df3-a6dc-6e2700541be0",
   "metadata": {},
   "outputs": [],
   "source": [
    "vectordb = None"
   ]
  },
  {
   "cell_type": "markdown",
   "id": "2fc8f3e1-2d19-41da-98cc-e6f99fc71bcc",
   "metadata": {},
   "source": [
    "## 文档读取（再次启动可以从这一步开始，如果重复进行持久化可能会导致错误）"
   ]
  },
  {
   "cell_type": "code",
   "execution_count": null,
   "id": "4b7bbc63-37ab-4be8-a873-96bd5bf8f343",
   "metadata": {},
   "outputs": [],
   "source": [
    "from langchain.embeddings import HuggingFaceEmbeddings\n",
    "from langchain.vectorstores import Chroma"
   ]
  },
  {
   "cell_type": "code",
   "execution_count": 39,
   "id": "42669e18-ac59-42cc-8549-a6076b53d0b7",
   "metadata": {
    "tags": []
   },
   "outputs": [
    {
     "name": "stderr",
     "output_type": "stream",
     "text": [
      "Using embedded DuckDB with persistence: data will be stored in: db_huggingface\n"
     ]
    }
   ],
   "source": [
    "vectordb = Chroma(persist_directory='db_huggingface', embedding_function=embedding)\n",
    "retriever = vectordb.as_retriever(search_kwargs={\"k\": 3})"
   ]
  },
  {
   "cell_type": "code",
   "execution_count": 21,
   "id": "f1d8338c-2ea8-4b37-bcf8-a349a5d3c057",
   "metadata": {},
   "outputs": [],
   "source": [
    "from langchain.prompts import PromptTemplate"
   ]
  },
  {
   "cell_type": "code",
   "execution_count": 22,
   "id": "38e2c8cf-bcea-4f7a-9921-2a1bf3f2e597",
   "metadata": {},
   "outputs": [],
   "source": [
    "prompt_template=\"\"\"请注意：请谨慎评估Query与提示的Context信息的相关性，只根据本段输入文字信息的内容进行回答，如果Query与提供的材料无关，请回答\"我不知道\"，另外也不要回答无关答案：\n",
    "    Context: {context}\n",
    "    Query: {query}\n",
    "    Answer:\"\"\"\n",
    "\n",
    "prompt = PromptTemplate(\n",
    "    input_variables=[\"context\", \"query\"],\n",
    "    template=prompt_template\n",
    ")"
   ]
  },
  {
   "cell_type": "code",
   "execution_count": 40,
   "id": "fd437d1c-df0d-4c33-861a-3215046b23a0",
   "metadata": {},
   "outputs": [],
   "source": [
    "query = '2022年国内新能源车的渗透率是多少?'\n",
    "docs = retriever.get_relevant_documents(query)"
   ]
  },
  {
   "cell_type": "code",
   "execution_count": 41,
   "id": "21b07803-c761-4520-87c1-46dfa228e0ed",
   "metadata": {},
   "outputs": [
    {
     "data": {
      "text/plain": [
       "[Document(page_content='到2035年，我国核电在运和在建装机容量将达到2亿千瓦左右，发电量约占全国发电量的10%左右。6. 氢燃料电池发展有望。虽然氢燃料电池还没有广泛应用在各能源行业，但国家已经部署加快能源领域关键核心技术和装备攻关，预计2023年国内将适度超前部署一批氢能项目，着力攻克可再生能源制氢和氢能储运、应用及燃料电池等核心技术，在氢能全产业链关键技术取得一定突破。46新能源各板块增长期望曲线图而新能源行业的2023年招聘趋势，也为上述论述所定调，各个板块都处于不同的增量预期曲线上（如上图）。', metadata={'source': 'KOS：2023中国市场招聘趋势.pdf'}),\n",
       " Document(page_content='2022年注定是新能源车及其产业链提前进入激烈竞争的一年， 既是技术产品营销的竞争，亦是人才争夺的竞争。这一年，国内新能源车的渗透率突破25%， 提前达到三年后目标。 KOS新能源招聘团队认为，在2022人才争夺战中，新能源车人才竞争的42三个战场会分别是研发、交付、营销。 各大车企招聘的增量直接反映其业务发展势头，直观例子是BYD在2022年的销量全面赶超特斯拉，而BYD在招聘市场上的热度亦然如此。我们看到人工智能、大数据技术、汽车研发、电池研发等研发相关岗位招聘需求上涨。制造工艺、机电工程、生产管理、供应链管理等交付类岗位始终需求强劲。', metadata={'source': 'KOS：2023中国市场招聘趋势.pdf'}),\n",
       " Document(page_content='销售人才依然是各大品牌争夺的重点，随着汽车保有量的上升，售后，客服，公关等岗。与新能源车相配套的电池、电机、电控、汽车电子、自动/辅助驾驶、车联网技术、换电站、充电桩、电池回收等相关的企业招聘需求持续走高。 两轮电动车的出海业务异常火热， 相关的产研、营销需求较高。2023New Energy432023年1月6日，国家能源局发布《新型电力系统发展蓝皮书（征求意见稿）》公开征求意见，望打造“新能源＋”模式，加快提升新能源可靠替代能力。意见稿提出推动多领域清洁能源电能替代，充分挖掘用户侧消纳新能源潜力。', metadata={'source': 'KOS：2023中国市场招聘趋势.pdf'})]"
      ]
     },
     "execution_count": 41,
     "metadata": {},
     "output_type": "execute_result"
    }
   ],
   "source": [
    "docs"
   ]
  },
  {
   "cell_type": "markdown",
   "id": "f06bfb0c-15a1-4e8f-99cf-9c99b3b37c24",
   "metadata": {},
   "source": [
    "## 文档问答"
   ]
  },
  {
   "cell_type": "markdown",
   "id": "41550ec3-7c46-4fa8-86f6-852f8f85dfff",
   "metadata": {
    "jp-MarkdownHeadingCollapsed": true,
    "tags": []
   },
   "source": [
    "### 定义 ChatGLM"
   ]
  },
  {
   "cell_type": "code",
   "execution_count": 25,
   "id": "660a99ab-a083-496e-a427-dff8a2ea739f",
   "metadata": {},
   "outputs": [],
   "source": [
    "from typing import Any, List, Mapping, Optional\n",
    "from langchain.llms.base import LLM\n",
    "from langchain.callbacks.manager import CallbackManagerForLLMRun\n",
    "from transformers import AutoTokenizer, AutoModel, AutoConfig\n",
    "\n",
    "import torch\n",
    "\n",
    "\n",
    "def torch_gc():\n",
    "    # with torch.cuda.device(DEVICE):\n",
    "    torch.cuda.empty_cache()\n",
    "    torch.cuda.ipc_collect()\n",
    "    \n",
    "\n",
    "class ChatGLM(LLM):\n",
    "    max_token: int = 10000\n",
    "    temperature: float = 0.01\n",
    "    top_p = 0.9\n",
    "    tokenizer: object = None\n",
    "    model: object = None\n",
    "\n",
    "    def __init__(\n",
    "        self,\n",
    "        model_path: str = \"chatglm-6b-int4\",\n",
    "        **kwargs\n",
    "    ):\n",
    "        super().__init__()\n",
    "        self.tokenizer = AutoTokenizer.from_pretrained(\n",
    "            model_path,\n",
    "            trust_remote_code=True, \n",
    "            revision=model_path\n",
    "        )\n",
    "        model_config = AutoConfig.from_pretrained(\n",
    "            model_path, \n",
    "            trust_remote_code=True, \n",
    "            revision=model_path\n",
    "        )\n",
    "        self.model = AutoModel.from_pretrained(\n",
    "            model_path, \n",
    "            config=model_config, \n",
    "            trust_remote_code=True, \n",
    "            revision=model_path, \n",
    "            **kwargs\n",
    "        ).half().cuda()\n",
    "        self.model = self.model.eval()\n",
    "        \n",
    "    \n",
    "    @property\n",
    "    def _llm_type(self) -> str:\n",
    "        return \"ChatGLM\"\n",
    "\n",
    "    def _call(\n",
    "        self, \n",
    "        prompt: str,\n",
    "        stop: Optional[List[str]] = None,\n",
    "        run_manager: Optional[CallbackManagerForLLMRun] = None\n",
    "    ) -> str:\n",
    "        if stop is not None:\n",
    "            raise ValueError(\"stop kwargs are not permitted.\")\n",
    "        \n",
    "        response, _ = self.model.chat(\n",
    "            self.tokenizer,\n",
    "            prompt,\n",
    "            history=[],\n",
    "            max_length=self.max_token,\n",
    "            temperature=self.temperature,\n",
    "        )\n",
    "        torch_gc()\n",
    "        return response"
   ]
  },
  {
   "cell_type": "markdown",
   "id": "8023dab8-f03c-43d0-b123-0217d046ae16",
   "metadata": {},
   "source": [
    "### 加载模型"
   ]
  },
  {
   "cell_type": "code",
   "execution_count": 26,
   "id": "67a59ab3-d382-45c8-ad9d-0cac86dce795",
   "metadata": {},
   "outputs": [],
   "source": [
    "import os\n",
    "os.environ[\"TOKENIZERS_PARALLELISM\"] = \"false\""
   ]
  },
  {
   "cell_type": "code",
   "execution_count": 27,
   "id": "b470d451-92ed-4d44-bd67-1c03bd8b1145",
   "metadata": {},
   "outputs": [
    {
     "name": "stdout",
     "output_type": "stream",
     "text": [
      "Load kernel : chatglm-6b-int4/quantization_kernels_parallel.so\n",
      "Setting CPU quantization kernel threads to 2\n",
      "Parallel kernel is not recommended when parallel num < 4.\n",
      "Using quantization cache\n",
      "Applying quantization to glm layers\n"
     ]
    }
   ],
   "source": [
    "llm = ChatGLM()"
   ]
  },
  {
   "cell_type": "code",
   "execution_count": 28,
   "id": "cf18ff0d-2bd9-4826-842a-f56272d09266",
   "metadata": {},
   "outputs": [],
   "source": [
    "from langchain.chains.question_answering import load_qa_chain\n",
    "chain = load_qa_chain(llm, chain_type=\"stuff\", prompt=prompt)"
   ]
  },
  {
   "cell_type": "code",
   "execution_count": 42,
   "id": "11b98b8b-f2bc-425c-abad-adac4d63886d",
   "metadata": {},
   "outputs": [],
   "source": [
    "result = chain({\"input_documents\": docs, \"query\": query}, return_only_outputs=True)"
   ]
  },
  {
   "cell_type": "code",
   "execution_count": 43,
   "id": "81ebff6e-ec79-421a-9186-3f102875fb6d",
   "metadata": {},
   "outputs": [
    {
     "data": {
      "text/plain": [
       "{'output_text': '2022年国内新能源车的渗透率是25%。'}"
      ]
     },
     "execution_count": 43,
     "metadata": {},
     "output_type": "execute_result"
    }
   ],
   "source": [
    "result"
   ]
  },
  {
   "cell_type": "markdown",
   "id": "5100b239-4af4-4e18-80e4-60925ec5c23f",
   "metadata": {},
   "source": [
    "## 更多问题"
   ]
  },
  {
   "cell_type": "code",
   "execution_count": 44,
   "id": "6b9aa993-817d-4cba-b0ce-c6a63203667b",
   "metadata": {},
   "outputs": [],
   "source": [
    "query = \"关于2022年的机器人行业企业密度，各国的排名怎么样？\"\n",
    "docs = retriever.get_relevant_documents(query)"
   ]
  },
  {
   "cell_type": "code",
   "execution_count": 45,
   "id": "a2db8c2f-0d8d-4559-bb3d-293b26ef179f",
   "metadata": {},
   "outputs": [
    {
     "data": {
      "text/plain": [
       "[Document(page_content='232023Robotics24国际机器人联合会（IFR）2022年底统计显示，中国机器人行业企业密度跻身世界第五位——前四位分别是，韩国、新加坡、日本、德国，美国则排在第九。2023年，机器人行业市场预计将保持20到25%的增长，而市场规模则仍在1000亿人民币以上。推动工业机器人发展有三大底层驱动因素，分别为人口结构改变、用劳用工成本的增加、下游应用产业的突出需求。而工业机器人产业链主要由零部件（上游）、机器人本体（中游）、系统集成（下游）以及行业应用等几个环节组成。', metadata={'source': 'KOS：2023中国市场招聘趋势.pdf'}),\n",
       " Document(page_content='去年，全球机器人市场规模达到513亿美元（折3576亿元人民币）。而国内机器人市场规模也突破了1213亿元人民币。在过往的5年里，国内机器人年均增长率为22%。2022年上半年机器人行业融资总额超315亿元人民币，其中，单笔融资金额达到20亿元人民币，其主要业务为轻量级协作机器人研发。国内很多机器人公司借助现有成熟工业链体系，完成弯道超车，在疫情期间，开始把业务重心移至国外。2022年，国内机器人公司出海业务比例占到30%，更有企业有超50%的业务来自海外市场。机器人赛道大体可分为三类：工业机器人、服务机器人、特种机器人。', metadata={'source': 'KOS：2023中国市场招聘趋势.pdf'}),\n",
       " Document(page_content='2022年注定是新能源车及其产业链提前进入激烈竞争的一年， 既是技术产品营销的竞争，亦是人才争夺的竞争。这一年，国内新能源车的渗透率突破25%， 提前达到三年后目标。 KOS新能源招聘团队认为，在2022人才争夺战中，新能源车人才竞争的42三个战场会分别是研发、交付、营销。 各大车企招聘的增量直接反映其业务发展势头，直观例子是BYD在2022年的销量全面赶超特斯拉，而BYD在招聘市场上的热度亦然如此。我们看到人工智能、大数据技术、汽车研发、电池研发等研发相关岗位招聘需求上涨。制造工艺、机电工程、生产管理、供应链管理等交付类岗位始终需求强劲。', metadata={'source': 'KOS：2023中国市场招聘趋势.pdf'})]"
      ]
     },
     "execution_count": 45,
     "metadata": {},
     "output_type": "execute_result"
    }
   ],
   "source": [
    "docs"
   ]
  },
  {
   "cell_type": "code",
   "execution_count": 46,
   "id": "feac0df5-806a-40fb-8452-9a61fe9104a7",
   "metadata": {},
   "outputs": [],
   "source": [
    "result = chain.run(input_documents = docs, query = query)"
   ]
  },
  {
   "cell_type": "code",
   "execution_count": 47,
   "id": "1b388507-bead-4b8e-a295-4f6b26a13a4e",
   "metadata": {},
   "outputs": [
    {
     "name": "stdout",
     "output_type": "stream",
     "text": [
      "2022年底统计数据显示，中国机器人行业企业密度跻身世界第五位，前四位分别是韩国、新加坡、日本、德国。\n"
     ]
    }
   ],
   "source": [
    "print(result)"
   ]
  },
  {
   "cell_type": "code",
   "execution_count": null,
   "id": "28c364f9-bebd-4fdd-b3d2-86a41d30fdab",
   "metadata": {},
   "outputs": [],
   "source": []
  }
 ],
 "metadata": {
  "kernelspec": {
   "display_name": "Python 3 (ipykernel)",
   "language": "python",
   "name": "python3"
  },
  "language_info": {
   "codemirror_mode": {
    "name": "ipython",
    "version": 3
   },
   "file_extension": ".py",
   "mimetype": "text/x-python",
   "name": "python",
   "nbconvert_exporter": "python",
   "pygments_lexer": "ipython3",
   "version": "3.9.16"
  }
 },
 "nbformat": 4,
 "nbformat_minor": 5
}
